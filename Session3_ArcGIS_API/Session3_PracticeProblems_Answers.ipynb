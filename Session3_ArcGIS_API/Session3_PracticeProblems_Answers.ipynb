{
 "cells": [
  {
   "cell_type": "markdown",
   "metadata": {},
   "source": [
    "## Practice Problems, Session 3\n",
    "\n",
    "The ArcGIS API For Python"
   ]
  },
  {
   "cell_type": "markdown",
   "metadata": {},
   "source": [
    "<h2> Problem 1 </h2>\n",
    "\n",
    "Let's upload some additional data to our AGOL accounts.\n",
    "\n",
    "Included within this folder is a zipped shapefile called: \"wc_watershed\"\n",
    "\n",
    "This shapefile contains watershed information for walnut creek, ca. Let's upload it to our AGOL accounts as a feature layer."
   ]
  },
  {
   "cell_type": "code",
   "execution_count": null,
   "metadata": {},
   "outputs": [],
   "source": [
    "import os\n",
    "import arcgis"
   ]
  },
  {
   "cell_type": "code",
   "execution_count": null,
   "metadata": {},
   "outputs": [],
   "source": [
    "# sign into AGOL through python with our pro credentials\n",
    "mygis = arcgis.GIS('pro')\n",
    "\n",
    "# get a path to the zip file using os\n",
    "project_path = os.getcwd()\n",
    "wc_watershed_path = os.path.join(project_path, 'wc_watershed.zip')\n",
    "\n",
    "# create the item property dictionary\n",
    "item_properties = {\"type\": \"Shapefile\",\n",
    "                   \"title\" : \"Walnut Creek Watershed\",\n",
    "                    \"tags\": \"Watershed, Walnut Creek, CA\",\n",
    "                   \"description\" : \"Watershed in Walnut Creek, CA. Created 2022 from Python\",\n",
    "                   \"commentsEnabled\" : False}\n",
    "\n",
    "# upload the shapefile to out AGOL account\n",
    "wc_watershed_item_shp = mygis.content.add(item_properties, data=wc_watershed_path)\n",
    "\n",
    "# publish the uploaded shapefile as a feature service feature layer\n",
    "wc_watershed_feature_layer = wc_watershed_item_shp.publish()\n",
    "\n",
    "# let's delete the uploaded shapefile, since we now have it published as a feature layer\n",
    "wc_watershed_item_shp.delete()"
   ]
  },
  {
   "cell_type": "markdown",
   "metadata": {},
   "source": [
    "<h2> Problem 2 </h2>\n",
    "\n",
    "Great, now that we have our feature layer uploaded, lets create a map to visualize the \n",
    "data.\n",
    "\n",
    "The map should be centered on walnut creek and have a zoom level of 14.\n",
    "\n",
    "Look into the documentation for the map object. Let's change the default basemap to a different one. For this map, lets change the basemap to the \"national-geographic\" option.\n",
    "\n",
    "Then, let's add the layer we just uploaded to AGOL to the map!\n",
    "\n",
    "Hint: <a href='https://developers.arcgis.com/python/guide/using-the-map-widget/'>Here's a link to the docs regarding the map widget</a>"
   ]
  },
  {
   "cell_type": "code",
   "execution_count": null,
   "metadata": {},
   "outputs": [],
   "source": [
    "# create map object\n",
    "watershed_map = mygis.map(\"Walnut Creek, CA\", zoomlevel=14)\n",
    "\n",
    "#set basemap to national geographic\n",
    "watershed_map.basemap = 'national-geographic'\n",
    "\n",
    "# add our new feature layer\n",
    "watershed_map.add_layer(wc_watershed_feature_layer)\n",
    "\n",
    "# print the map out to the notebook\n",
    "watershed_map"
   ]
  },
  {
   "cell_type": "markdown",
   "metadata": {},
   "source": [
    "<h2> Problem 3 </h2>\n",
    "\n",
    "Challenge Problem. This problem is a little difficult, so do not get discouraged. Loop through the feature set, use print statements,\n",
    "and test out your results. Try to get to the answer incrementally.\n",
    "\n",
    "Review the feature layer's table that we just uploaded. Notice that there are some typo's within the trail name column.\n",
    "\n",
    "Lets clean those up using a feature set. (remember, this is similair to using an arcpy update cursor)\n",
    "\n",
    "We will want to replace wherever there is a '*' or a '%' with an empty string: ''"
   ]
  },
  {
   "cell_type": "code",
   "execution_count": null,
   "metadata": {},
   "outputs": [],
   "source": [
    "# log onto AGOL using your credentials using your browser. \n",
    "# navigate to your recently uploaded feature layer and copy the feature service url.\n",
    "# remember to include a '/0' after the path to get the first layer (we know there is only one)\n",
    "\n",
    "# Create a variable of the path to your rest service\n",
    "wc_watershed_url = r'https://services.arcgis.com/JbibFpsuaEQr3FFG/arcgis/rest/services/wc_watershed/FeatureServer/0'\n",
    "\n",
    "# use the FeatureLayer function to create a feature layer object using the above url\n",
    "fl = arcgis.features.FeatureLayer(wc_watershed_url)\n",
    "\n",
    "# use the query method with no input parameters to create a feature set from the above feature layer\n",
    "fs = fl.query()\n",
    "\n",
    "# loop though the feature set to start cleaning the text\n",
    "for row in fs:\n",
    "    # get the value of what's within the name column as a variable\n",
    "    name_value = row.attributes['NAME']\n",
    "    # check if % is within the name value\n",
    "    if '%' in name_value:\n",
    "        # if it is, lets use the replace function to remove it and replace it with an empty string\n",
    "        new_name = name_value.replace('%', '')\n",
    "        # reset the row.attributes['NAME'] value with the new name we just created\n",
    "        row.attributes['NAME'] = new_name\n",
    "    #repeat the same for '*'\n",
    "    if '*' in name_value:\n",
    "        new_name = name_value.replace('*', '')\n",
    "        row.attributes['NAME'] = new_name\n",
    "\n",
    "# update feature layer object\n",
    "fl.edit_features(updates=fs)"
   ]
  },
  {
   "cell_type": "code",
   "execution_count": null,
   "metadata": {},
   "outputs": [],
   "source": []
  }
 ],
 "metadata": {
  "kernelspec": {
   "display_name": "ArcGISPro",
   "language": "Python",
   "name": "python3"
  },
  "language_info": {
   "file_extension": ".py",
   "name": "python",
   "version": "3"
  }
 },
 "nbformat": 4,
 "nbformat_minor": 2
}
