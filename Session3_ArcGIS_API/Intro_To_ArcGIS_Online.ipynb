{
 "cells": [
  {
   "cell_type": "markdown",
   "metadata": {},
   "source": [
    "## Interacting with ArcGIS Online using the ArcGIS API for Python!\n",
    "\n",
    "<br>\n",
    "\n",
    "The ArcGIS Python API allows you to connect to your ArcGIS Online Organization through Python. \n",
    "<br>\n",
    "Just like accessing ArcGIS Online through a web browser, you need to login to access your data.\n",
    "<br>\n",
    "Data in ArcGIS Online is stored as feature layers and tables. \n",
    "<br>\n",
    "These have similar properties to feature classes and feature tables that are held in geodatabases.\n",
    "<br>\n",
    "Featuresets are similar to the ArcPy Cursors we have worked with in arcpy. These are used to update the feature services.\n",
    "<br>\n",
    "Link to arcgis Python API documentation: https://developers.arcgis.com/python/api-reference/"
   ]
  },
  {
   "cell_type": "markdown",
   "metadata": {},
   "source": [
    "<b> Before diving into the Python, lets all sign into ArcGIS online using our credentials<br>\n",
    "    Using the following link: https://www.arcgis.com/index.html </b>"
   ]
  },
  {
   "cell_type": "code",
   "execution_count": null,
   "metadata": {},
   "outputs": [],
   "source": [
    "import os\n",
    "import arcgis\n",
    "\n",
    "from IPython.display import display"
   ]
  },
  {
   "cell_type": "markdown",
   "metadata": {},
   "source": [
    "This is the first time we have seen the \"from\" keyword in the import cell.\n",
    "<br>\n",
    "The from statement allows us to import only the modules we are interested in.\n",
    "<br>\n",
    "This can help us avoid importing large packages when we only need a few modules from them."
   ]
  },
  {
   "cell_type": "code",
   "execution_count": null,
   "metadata": {},
   "outputs": [],
   "source": [
    "# Make sure your credentials are signed into AGOL before running this cell\n",
    "mygis = arcgis.GIS('pro')"
   ]
  },
  {
   "cell_type": "code",
   "execution_count": null,
   "metadata": {},
   "outputs": [],
   "source": [
    "mygis"
   ]
  },
  {
   "cell_type": "code",
   "execution_count": null,
   "metadata": {},
   "outputs": [],
   "source": [
    "mygis.users.me"
   ]
  },
  {
   "cell_type": "code",
   "execution_count": null,
   "metadata": {},
   "outputs": [],
   "source": [
    "# this is how you can log in to your AGOL from outside ArcGIS Pro\n",
    "\n",
    "# this will cause an error since I do not have my passwor included here!\n",
    "private_gis = arcgis.GIS(r\"https://usfca.maps.arcgis.com/\", \"EricS_BayGeo\", \"password\")"
   ]
  },
  {
   "cell_type": "code",
   "execution_count": null,
   "metadata": {},
   "outputs": [],
   "source": [
    "map_sample = mygis.map(\"Walnut Creek, CA\")\n",
    "map_sample"
   ]
  },
  {
   "cell_type": "markdown",
   "metadata": {},
   "source": [
    "Lets check out the documentation for the parameters of \"map\"<br>\n",
    "https://developers.arcgis.com/python/api-reference/arcgis.gis.toc.html#gis"
   ]
  },
  {
   "cell_type": "code",
   "execution_count": null,
   "metadata": {},
   "outputs": [],
   "source": [
    "mygis.map(\"Walnut Creek, CA\", 11, mode='3D')"
   ]
  },
  {
   "cell_type": "markdown",
   "metadata": {},
   "source": [
    "Lets add some data to the map!\n",
    "\n",
    "To do this, lets look into the content manager method:\n",
    "<br>\n",
    "https://developers.arcgis.com/python/api-reference/arcgis.gis.toc.html?highlight=content%20search#arcgis.gis.ContentManager\n",
    "<br>\n",
    "https://developers.arcgis.com/python/api-reference/arcgis.gis.toc.html?highlight=content%20search#arcgis.gis.ContentManager.search"
   ]
  },
  {
   "cell_type": "code",
   "execution_count": null,
   "metadata": {},
   "outputs": [],
   "source": [
    "items = mygis.content.search('Walnut Creek', item_type='feature layer', outside_org=True)"
   ]
  },
  {
   "cell_type": "code",
   "execution_count": null,
   "metadata": {},
   "outputs": [],
   "source": [
    "items"
   ]
  },
  {
   "cell_type": "code",
   "execution_count": null,
   "metadata": {},
   "outputs": [],
   "source": [
    "for item in items:\n",
    "    display(item)"
   ]
  },
  {
   "cell_type": "code",
   "execution_count": null,
   "metadata": {},
   "outputs": [],
   "source": [
    "# how can we get the first item in the set of items?\n",
    "cal_fire_polygon = items[0]"
   ]
  },
  {
   "cell_type": "code",
   "execution_count": null,
   "metadata": {},
   "outputs": [],
   "source": [
    "# feature layer collection\n",
    "cal_fire_polygon"
   ]
  },
  {
   "cell_type": "code",
   "execution_count": null,
   "metadata": {},
   "outputs": [],
   "source": [
    "# There can actually be multiple layers within one feature layer collection\n",
    "# to get the layers in a list, we would use the .layers method\n",
    "cal_fire_polygon.layers"
   ]
  },
  {
   "cell_type": "code",
   "execution_count": null,
   "metadata": {},
   "outputs": [],
   "source": [
    "map_sample = mygis.map(\"Walnut Creek, CA\")"
   ]
  },
  {
   "cell_type": "code",
   "execution_count": null,
   "metadata": {},
   "outputs": [],
   "source": [
    "# recreate our map sample\n",
    "map_sample.add_layer(cal_fire_polygon)\n",
    "map_sample.zoom_to_layer(cal_fire_polygon.layers[0])"
   ]
  },
  {
   "cell_type": "code",
   "execution_count": null,
   "metadata": {
    "scrolled": true
   },
   "outputs": [],
   "source": [
    "map_sample"
   ]
  },
  {
   "cell_type": "markdown",
   "metadata": {},
   "source": [
    "### Before uploading data to ArcGIS Online, lets talk about the data types we will see\n",
    "\n",
    "1. Feature\n",
    "    - An individual record or row from a feature class, shapefile, or feature layer. An entity located in space (some kind of geometry) with a set of properties.\n",
    "2. Feature Layer\n",
    "    - In the ArcGIS API for python, a feature layer is special object representing a group of features of one type (point, polygon, line). For example, the\n",
    "        first layer in the cal_fire_polygon feature collection is a individual feature layer. It is important to understand the difference between a FeatureLayer\n",
    "        and a feature collection because they have different capabilities.\n",
    "3. Table\n",
    "    - A table with no spatial information, containing records of information. These can also be found within a feature collection.\n",
    "4. Feature Collection\n",
    "    - A collection of feature layers and tables is a feature layer collection. You can't do much with a feature collection:\n",
    "      think of it as a list of Feature Layers and Tables, an object we can use to organize feature layers and tables.\n",
    "5. Feature Set\n",
    "    - A special ArcGIS API for Python object. Feature sets are created from a FeatureLayer Python object. They act very similair to how an ArcPy cursor behaves, except instead of \n",
    "        using local data like a feature class, it is scripted against a online FeatureLayer.\n"
   ]
  },
  {
   "cell_type": "markdown",
   "metadata": {},
   "source": [
    "### Lets upload our own data to ArcGIS Online"
   ]
  },
  {
   "cell_type": "code",
   "execution_count": null,
   "metadata": {},
   "outputs": [],
   "source": [
    "import os\n",
    "import arcgis\n",
    "\n",
    "mygis = arcgis.GIS('pro')"
   ]
  },
  {
   "cell_type": "code",
   "execution_count": null,
   "metadata": {},
   "outputs": [],
   "source": [
    "project_path = os.getcwd()\n",
    "\n",
    "# need to change the zip file name to something unique!\n",
    "your_name = ''\n",
    "wc_restaurants_full_path = os.path.join(project_path, f'wc_restaurants_{}.zip')"
   ]
  },
  {
   "cell_type": "code",
   "execution_count": null,
   "metadata": {},
   "outputs": [],
   "source": [
    "wc_restaurants_full_path"
   ]
  },
  {
   "cell_type": "code",
   "execution_count": null,
   "metadata": {},
   "outputs": [],
   "source": [
    "item_properties = {\"type\": \"Shapefile\",\n",
    "                   \"title\" : \"Walnut Creek Restaurants\",\n",
    "                    \"tags\": \"Restaurants, Walnut Creek, CA\",\n",
    "                   \"description\" : \"Restaurants in Walnut Creek, CA. Created 2022 from Python\",\n",
    "                   \"commentsEnabled\" : False}"
   ]
  },
  {
   "cell_type": "markdown",
   "metadata": {},
   "source": [
    "The .add method will just upload the shapefile or gdb to arcgis online. It will not publish it as a feature layer"
   ]
  },
  {
   "cell_type": "code",
   "execution_count": null,
   "metadata": {},
   "outputs": [],
   "source": [
    "wc_restaurants_item_shp = mygis.content.add(item_properties, data=wc_restaurants_full_path)"
   ]
  },
  {
   "cell_type": "code",
   "execution_count": null,
   "metadata": {
    "scrolled": true
   },
   "outputs": [],
   "source": [
    "wc_restaurants_item_shp"
   ]
  },
  {
   "cell_type": "markdown",
   "metadata": {},
   "source": [
    "Lets move over to arcgis online to see what this looks like"
   ]
  },
  {
   "cell_type": "markdown",
   "metadata": {},
   "source": [
    "To Publish it as a feature service, we must use the .publish method"
   ]
  },
  {
   "cell_type": "code",
   "execution_count": null,
   "metadata": {},
   "outputs": [],
   "source": [
    "wc_restaurants_feature_layer = wc_restaurants_item_shp.publish()"
   ]
  },
  {
   "cell_type": "markdown",
   "metadata": {},
   "source": [
    "Lets move over to arcgis online to see what this looks like\n",
    "<br>\n",
    "Lets also add it to our map pane to check out the data further"
   ]
  },
  {
   "cell_type": "markdown",
   "metadata": {},
   "source": [
    "<b> Great! Now that we have the shapefile as a feature layer, we can delete the shapefile file </b>"
   ]
  },
  {
   "cell_type": "code",
   "execution_count": null,
   "metadata": {},
   "outputs": [],
   "source": [
    "wc_restaurants_item_shp.delete()"
   ]
  },
  {
   "cell_type": "markdown",
   "metadata": {},
   "source": [
    "### Accessing and Editing the Data\n",
    "\n",
    "In order to view, query, and edit the data that's on AGOL, a feature layer object within python must be made.\n",
    "\n",
    "These can be created either using the search method, or using the rest service URL.\n",
    "\n",
    "After the feature layer object is initiated, a feature set can be created (similair to a cursor). \n",
    "<br>\n",
    "A feature set enables the user to make changes\n",
    "and then set these changes as permanent back in the original feature layer\n",
    "\n",
    "Link to the docs for featurelayers:\n",
    "https://developers.arcgis.com/python/api-reference/arcgis.features.toc.html#featurelayer"
   ]
  },
  {
   "cell_type": "code",
   "execution_count": null,
   "metadata": {},
   "outputs": [],
   "source": [
    "# lets search for the data that we just created!\n",
    "\n",
    "local_items = mygis.content.search('Walnut Creek Restaurants', item_type='feature layer', outside_org=False)\n",
    "\n",
    "for i in local_items:\n",
    "    display(i)"
   ]
  },
  {
   "cell_type": "code",
   "execution_count": null,
   "metadata": {},
   "outputs": [],
   "source": [
    "# to get a layer as a feature layer python object, we will use the following function:\n",
    "\n",
    "arcgis.features.FeatureLayer(local_items[0])"
   ]
  },
  {
   "cell_type": "markdown",
   "metadata": {},
   "source": [
    "We want to always be explicit, so the search method may not be the best way to programmtically create a feature layer in python\n",
    "\n",
    "The best way is by calling directly to the URL where the feature layer is hosted, <br>\n",
    "that way you know you are getting the correct feature layer.\n",
    "\n",
    "Lets go grab the URL"
   ]
  },
  {
   "cell_type": "code",
   "execution_count": null,
   "metadata": {},
   "outputs": [],
   "source": [
    "# input your own URL here!\n",
    "Walnut_Creek_Restaurants_rest_url = r'https://services5.arcgis.com/wXYNaciObHUosEnt/arcgis/rest/services/wc_restaurants_erics/FeatureServer/0'\n",
    "\n",
    "fl = arcgis.features.FeatureLayer(Walnut_Creek_Restaurants_rest_url)"
   ]
  },
  {
   "cell_type": "code",
   "execution_count": null,
   "metadata": {},
   "outputs": [],
   "source": [
    "fl"
   ]
  },
  {
   "cell_type": "markdown",
   "metadata": {},
   "source": [
    "Now lets create a feature set out of the Feature Layer!"
   ]
  },
  {
   "cell_type": "code",
   "execution_count": null,
   "metadata": {},
   "outputs": [],
   "source": [
    "fs = fl.query()"
   ]
  },
  {
   "cell_type": "code",
   "execution_count": null,
   "metadata": {},
   "outputs": [],
   "source": [
    "fs"
   ]
  },
  {
   "cell_type": "code",
   "execution_count": null,
   "metadata": {},
   "outputs": [],
   "source": [
    "for row in fs:\n",
    "    print(row)"
   ]
  },
  {
   "cell_type": "code",
   "execution_count": null,
   "metadata": {},
   "outputs": [],
   "source": [
    "row"
   ]
  },
  {
   "cell_type": "code",
   "execution_count": null,
   "metadata": {},
   "outputs": [],
   "source": [
    "#how would we access the attributes dictionary within the feature set?\n",
    "\n",
    "row.geometry"
   ]
  },
  {
   "cell_type": "code",
   "execution_count": null,
   "metadata": {},
   "outputs": [],
   "source": [
    "# temp_dict = {'age': 25, }"
   ]
  },
  {
   "cell_type": "code",
   "execution_count": null,
   "metadata": {},
   "outputs": [],
   "source": []
  },
  {
   "cell_type": "code",
   "execution_count": null,
   "metadata": {},
   "outputs": [],
   "source": []
  },
  {
   "cell_type": "code",
   "execution_count": null,
   "metadata": {},
   "outputs": [],
   "source": [
    "row.geometry['spatialReference']"
   ]
  },
  {
   "cell_type": "code",
   "execution_count": null,
   "metadata": {},
   "outputs": [],
   "source": []
  },
  {
   "cell_type": "code",
   "execution_count": null,
   "metadata": {},
   "outputs": [],
   "source": [
    "row.attributes['name']"
   ]
  },
  {
   "cell_type": "markdown",
   "metadata": {},
   "source": [
    ".query() has some handy extra parameters that we can use to parse down some of the data we return!"
   ]
  },
  {
   "cell_type": "code",
   "execution_count": null,
   "metadata": {},
   "outputs": [],
   "source": [
    "fl.query(return_count_only=True)"
   ]
  },
  {
   "cell_type": "code",
   "execution_count": null,
   "metadata": {},
   "outputs": [],
   "source": [
    "fl.query(where = \"cuisine = 'mexican'\", return_count_only=True)"
   ]
  },
  {
   "cell_type": "markdown",
   "metadata": {},
   "source": [
    "Remember ArcPy Cursors? Well Feature Sets are similair!\n",
    "<br>\n",
    "In fact, I think it's good practice to think of the two as the same, just used for different types of data:<br>\n",
    "<b>-Cursors are for local data <br>\n",
    "-Feature Sets are for AGOL data <br></b>"
   ]
  },
  {
   "cell_type": "code",
   "execution_count": null,
   "metadata": {
    "scrolled": false
   },
   "outputs": [],
   "source": [
    "fs = fl.query()\n",
    "\n",
    "for row in fs:\n",
    "    print(row)"
   ]
  },
  {
   "cell_type": "code",
   "execution_count": null,
   "metadata": {},
   "outputs": [],
   "source": [
    "# First lets try using a feature set to replace all blank cuisine's with a value\n",
    "fs = fl.query()\n",
    "\n",
    "for row in fs:\n",
    "    cuisine_value = row.attributes['cuisine']\n",
    "    if cuisine_value == ' ':\n",
    "        row.attributes['cuisine'] = 'missing'"
   ]
  },
  {
   "cell_type": "code",
   "execution_count": null,
   "metadata": {},
   "outputs": [],
   "source": [
    "# update feature layer\n",
    "update_fl = fl.edit_features(updates=fs)"
   ]
  },
  {
   "cell_type": "markdown",
   "metadata": {},
   "source": [
    "Additionally, Instead of using feature sets to make these changes to the feature layer, <br>\n",
    "We can actually use similair logic that we use within ArcGIS Pro, when we select for attributes <br>\n",
    "and then calculate fields:"
   ]
  },
  {
   "cell_type": "code",
   "execution_count": null,
   "metadata": {},
   "outputs": [],
   "source": [
    "fl.calculate(where=\"FID < 10\",\n",
    "                   calc_expression={\"field\": \"Rating\", \"value\" : 1})"
   ]
  },
  {
   "cell_type": "code",
   "execution_count": null,
   "metadata": {},
   "outputs": [],
   "source": []
  }
 ],
 "metadata": {
  "kernelspec": {
   "display_name": "ArcGISPro",
   "language": "Python",
   "name": "python3"
  },
  "language_info": {
   "file_extension": ".py",
   "name": "python",
   "version": "3"
  }
 },
 "nbformat": 4,
 "nbformat_minor": 2
}
