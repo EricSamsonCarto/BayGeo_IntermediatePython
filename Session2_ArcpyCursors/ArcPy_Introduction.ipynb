{
 "cells": [
  {
   "cell_type": "markdown",
   "metadata": {
    "heading_collapsed": true
   },
   "source": [
    "# ArcPy Review and Introduction\n",
    "\n",
    "<ul>\n",
    "    <li>Tuple Unpacking</li>\n",
    "    <li>Interacting with Feature Layers and Feature Classes</li>\n",
    "    <li>Interfacing with the map and map pane</li>\n",
    "    <li>Running geoprocessing tools</li>\n",
    "</ul>"
   ]
  },
  {
   "cell_type": "code",
   "execution_count": null,
   "metadata": {
    "hidden": true
   },
   "outputs": [],
   "source": [
    "import os\n",
    "import arcpy"
   ]
  },
  {
   "cell_type": "markdown",
   "metadata": {
    "hidden": true
   },
   "source": [
    "Get current project default GDB"
   ]
  },
  {
   "cell_type": "code",
   "execution_count": null,
   "metadata": {
    "hidden": true
   },
   "outputs": [],
   "source": [
    "arcpy.env.workspace"
   ]
  },
  {
   "cell_type": "markdown",
   "metadata": {
    "hidden": true
   },
   "source": [
    "Typically I utilize the default GDB of a project, <br>\n",
    "but when I need to save the outputs or intermediate files to a specific GDB, <br>\n",
    "I will change the workspace to that GDB:"
   ]
  },
  {
   "cell_type": "code",
   "execution_count": null,
   "metadata": {
    "hidden": true
   },
   "outputs": [],
   "source": [
    "#get path to current directory\n",
    "current_folder = os.getcwd()\n",
    "\n",
    "#create a path to the other example gdb within the directory\n",
    "example_gdb = os.path.join(current_folder, 'Example.gdb')\n",
    "\n",
    "#reset the current workspace to the example gdb path\n",
    "arcpy.env.workspace = example_gdb"
   ]
  },
  {
   "cell_type": "code",
   "execution_count": null,
   "metadata": {
    "hidden": true
   },
   "outputs": [],
   "source": [
    "example_gdb"
   ]
  },
  {
   "cell_type": "code",
   "execution_count": null,
   "metadata": {
    "hidden": true
   },
   "outputs": [],
   "source": [
    "arcpy.env.workspace"
   ]
  },
  {
   "cell_type": "markdown",
   "metadata": {
    "hidden": true
   },
   "source": [
    "For now, we will continue to use the default project GDB, <br>\n",
    "so in the below cell, we will switch it back to the original:"
   ]
  },
  {
   "cell_type": "code",
   "execution_count": null,
   "metadata": {
    "hidden": true
   },
   "outputs": [],
   "source": [
    "#create a path to the default GDB\n",
    "session2_gdb = os.path.join(current_folder, 'Session2_ArcPyCursors.gdb')\n",
    "\n",
    "#reset the current workspace to the example gdb path\n",
    "arcpy.env.workspace = session2_gdb"
   ]
  },
  {
   "cell_type": "code",
   "execution_count": null,
   "metadata": {
    "hidden": true
   },
   "outputs": [],
   "source": [
    "arcpy.env.workspace"
   ]
  },
  {
   "cell_type": "markdown",
   "metadata": {
    "hidden": true
   },
   "source": [
    "There are other important methods we can utilize in the env class <br>\n",
    "The most common that I use are the following:"
   ]
  },
  {
   "cell_type": "code",
   "execution_count": null,
   "metadata": {
    "hidden": true
   },
   "outputs": [],
   "source": [
    "arcpy.env.addOutputsToMap = True\n",
    "arcpy.env.overwriteOutput = True"
   ]
  },
  {
   "cell_type": "markdown",
   "metadata": {
    "hidden": true
   },
   "source": [
    "There are other environmental settings within arcpy, you can find a list <br>\n",
    "of them within the following link\n",
    "\n",
    "https://pro.arcgis.com/en/pro-app/latest/arcpy/classes/env.htm"
   ]
  },
  {
   "cell_type": "markdown",
   "metadata": {
    "hidden": true
   },
   "source": [
    "Now lets find some data and add it to the projects GDB!\n",
    "We can use OS and arcpy to help us with this:"
   ]
  },
  {
   "cell_type": "code",
   "execution_count": null,
   "metadata": {
    "hidden": true
   },
   "outputs": [],
   "source": [
    "current_folder = os.getcwd()\n",
    "\n",
    "# path to data folder\n",
    "data_folder = os.path.join(current_folder, 'Data')\n",
    "\n",
    "#list all the files in the data_folder\n",
    "os.listdir(data_folder)"
   ]
  },
  {
   "cell_type": "code",
   "execution_count": null,
   "metadata": {
    "hidden": true
   },
   "outputs": [],
   "source": [
    "data_folder"
   ]
  },
  {
   "cell_type": "markdown",
   "metadata": {
    "hidden": true
   },
   "source": [
    "We could use os and look for any shapefiles within the folder, <br>\n",
    "recreate the paths, and then add them to the GDB.\n",
    "<br> Instead! we can actually use an arcpy function to help us with this!\n",
    "\n",
    "<b> ArcPy Walk </b> <br>\n"
   ]
  },
  {
   "cell_type": "code",
   "execution_count": null,
   "metadata": {
    "hidden": true
   },
   "outputs": [],
   "source": [
    "walk = arcpy.da.Walk(data_folder)"
   ]
  },
  {
   "cell_type": "code",
   "execution_count": null,
   "metadata": {
    "hidden": true
   },
   "outputs": [],
   "source": [
    "walk"
   ]
  },
  {
   "cell_type": "code",
   "execution_count": null,
   "metadata": {
    "hidden": true
   },
   "outputs": [],
   "source": [
    "for f in walk:\n",
    "    print(f)"
   ]
  },
  {
   "cell_type": "markdown",
   "metadata": {
    "hidden": true
   },
   "source": [
    "ArcPy Walk returns a tuple, which can be thought of as an iterable object (sort of like a list! but immutable). <br>\n",
    "We need to iterate over the tuple to get after the values in the iterable.\n",
    "\n",
    "<br>\n",
    "<br>\n",
    "Notice there are three positions in the tuple:\n",
    "<br>\n",
    "<b>The Folder Path : The folders within the input folder : any geo data</b>\n",
    "\n",
    "<br>\n",
    "<br>\n",
    "We can work with this data by using Tuple Unpacking, which we can use to seperate out each value"
   ]
  },
  {
   "cell_type": "code",
   "execution_count": null,
   "metadata": {
    "hidden": true
   },
   "outputs": [],
   "source": [
    "# tuple unpacking example\n",
    "\n",
    "sample_tuple = ('eric', 30, 'samson')\n",
    "\n",
    "# first_name, age, last_name = sample_tuple\n",
    "\n",
    "# f'{first_name}_{last_name} is {age} years old'"
   ]
  },
  {
   "cell_type": "code",
   "execution_count": null,
   "metadata": {
    "hidden": true
   },
   "outputs": [],
   "source": [
    "walk = arcpy.da.Walk(data_folder)\n",
    "\n",
    "for dirpath, dirnames, filenames in walk:\n",
    "    print(dirpath)\n",
    "    print(dirnames)\n",
    "    print(filenames)"
   ]
  },
  {
   "cell_type": "code",
   "execution_count": null,
   "metadata": {
    "hidden": true
   },
   "outputs": [],
   "source": [
    "walk = arcpy.da.Walk(data_folder)\n",
    "\n",
    "for dirpath, dirnames, filenames in walk:\n",
    "    for filename in filenames:\n",
    "        file_path = os.path.join(dirpath, filename)\n",
    "        print(file_path)"
   ]
  },
  {
   "cell_type": "markdown",
   "metadata": {
    "hidden": true
   },
   "source": [
    "<b> Before continuing, it's good to note that there are additional <br>\n",
    "    options that you can pass into ArcPy Walk</b>\n",
    "    \n",
    "https://pro.arcgis.com/en/pro-app/latest/arcpy/data-access/walk.htm"
   ]
  },
  {
   "cell_type": "code",
   "execution_count": null,
   "metadata": {
    "hidden": true
   },
   "outputs": [],
   "source": [
    "walk = arcpy.da.Walk(data_folder, datatype=\"FeatureClass\", type=\"Polygon\")"
   ]
  },
  {
   "cell_type": "code",
   "execution_count": null,
   "metadata": {
    "hidden": true
   },
   "outputs": [],
   "source": [
    "for f in walk:\n",
    "    print(f)"
   ]
  },
  {
   "cell_type": "markdown",
   "metadata": {
    "hidden": true
   },
   "source": [
    "For use case, we only need to pass in the data folder path:"
   ]
  },
  {
   "cell_type": "code",
   "execution_count": null,
   "metadata": {
    "hidden": true
   },
   "outputs": [],
   "source": [
    "walk = arcpy.da.Walk(data_folder)\n",
    "\n",
    "data_list = []\n",
    "for dirpath, dirnames, filenames in walk:\n",
    "    for filename in filenames:\n",
    "        file_path = os.path.join(dirpath, filename)\n",
    "        #print(file_path)\n",
    "        data_list.append(file_path)"
   ]
  },
  {
   "cell_type": "code",
   "execution_count": null,
   "metadata": {
    "hidden": true
   },
   "outputs": [],
   "source": [
    "data_list"
   ]
  },
  {
   "cell_type": "markdown",
   "metadata": {
    "hidden": true
   },
   "source": [
    "<b> Great! Now we have a list of the shapefile paths, lets copy them into our GDB </b>\n",
    "\n",
    "<br>\n",
    "To do this, we will use the copy features tool.\n",
    "\n",
    "https://pro.arcgis.com/en/pro-app/latest/tool-reference/data-management/copy-features.htm"
   ]
  },
  {
   "cell_type": "code",
   "execution_count": null,
   "metadata": {
    "hidden": true
   },
   "outputs": [],
   "source": [
    "test = os.path.basename('C:\\\\Users\\\\eric.samson\\\\Documents\\\\Python\\\\BayGeo_IntermediateClass\\\\Workshop_2.0\\\\Workshop2\\\\Workshop2\\\\Data\\\\sf_neighborhoods_project.shp')"
   ]
  },
  {
   "cell_type": "code",
   "execution_count": null,
   "metadata": {
    "hidden": true
   },
   "outputs": [],
   "source": [
    "os.path.splitext(test)[0]"
   ]
  },
  {
   "cell_type": "code",
   "execution_count": null,
   "metadata": {
    "hidden": true
   },
   "outputs": [],
   "source": [
    "data_list"
   ]
  },
  {
   "cell_type": "code",
   "execution_count": null,
   "metadata": {
    "hidden": true
   },
   "outputs": [],
   "source": [
    "arcpy.env.workspace"
   ]
  },
  {
   "cell_type": "code",
   "execution_count": null,
   "metadata": {
    "hidden": true
   },
   "outputs": [],
   "source": [
    "#loop through our shapefiles\n",
    "for shapefile_path in data_list:\n",
    "    # recreate the name of the shapefile, without the extension\n",
    "    basename = os.path.basename(shapefile_path)\n",
    "    new_fc_name = os.path.splitext(basename)[0]\n",
    "\n",
    "    # Recreate the output path using the new name\n",
    "    out_featureclass = os.path.join(arcpy.env.workspace, \n",
    "                                    new_fc_name)\n",
    "\n",
    "    # copy the shapefile to the new location\n",
    "    arcpy.management.CopyFeatures(shapefile_path, \n",
    "                                  out_featureclass)"
   ]
  },
  {
   "cell_type": "markdown",
   "metadata": {
    "hidden": true
   },
   "source": [
    "<b> We should now have our data within our Map Pane, which means they are now within our default GDB! </b>"
   ]
  },
  {
   "cell_type": "markdown",
   "metadata": {
    "hidden": true
   },
   "source": [
    "<b> Lets review this data and interact with it in python</b>\n",
    "    \n",
    "<br>\n",
    "Now that the data is within the map pane, it is now much easier for us to interact with it within our ArcGIS Notebook"
   ]
  },
  {
   "cell_type": "markdown",
   "metadata": {
    "hidden": true
   },
   "source": [
    "<b> We can do geoprocessing tasks using our layers in the map pane! </b>\n",
    "\n",
    "<br>\n",
    "<br>\n",
    "Let's try to merge the point files!\n",
    "<br>\n",
    "\n",
    "https://pro.arcgis.com/en/pro-app/latest/tool-reference/data-management/merge.htm"
   ]
  },
  {
   "cell_type": "code",
   "execution_count": null,
   "metadata": {
    "hidden": true
   },
   "outputs": [],
   "source": [
    "arcpy.management.Merge(\"sf_starbucks;sf_peets\", \n",
    "                       \"sf_coffee\")"
   ]
  },
  {
   "cell_type": "markdown",
   "metadata": {
    "hidden": true
   },
   "source": [
    "After Running the above cell, we should get a new feature layer in our map pane called sf_coffee!\n",
    "\n",
    "<br>\n",
    "What if we wanted to do a buffer? An Erase Overlay?\n",
    "\n",
    "<br>\n",
    "All possible in python when the layers are in the map pane!"
   ]
  },
  {
   "cell_type": "markdown",
   "metadata": {
    "hidden": true
   },
   "source": [
    "If you don't want to save the output file permanently, \n",
    "<br>\n",
    "<b>you can use ArcGIS Pros temporary memory!</b>\n",
    "<br>\n",
    "\n",
    "This is very handy when stringing together arcpy functions!"
   ]
  },
  {
   "cell_type": "code",
   "execution_count": null,
   "metadata": {
    "hidden": true
   },
   "outputs": [],
   "source": [
    "sf_coffee_buffer = arcpy.analysis.Buffer(\"sf_coffee\", \n",
    "                                          r\"memory\\sf_coffee_buffer\", \n",
    "                                          \"50 Meters\")\n",
    "\n",
    "arcpy.analysis.Erase(\"sf_neighborhoods_project\", \n",
    "                    sf_coffee_buffer,\n",
    "                    r\"memory\\sf_coffee_nhood_clip\")"
   ]
  },
  {
   "cell_type": "markdown",
   "metadata": {
    "hidden": true
   },
   "source": [
    "Let's add some neighborhood information to our coffee points layer using a spatial join!\n",
    "\n",
    "https://pro.arcgis.com/en/pro-app/2.9/tool-reference/analysis/spatial-join.htm"
   ]
  },
  {
   "cell_type": "code",
   "execution_count": null,
   "metadata": {
    "hidden": true
   },
   "outputs": [],
   "source": [
    "arcpy.SpatialJoin_analysis(\"sf_coffee\", \n",
    "                           \"sf_neighborhoods_project\", \n",
    "                          \"sf_coffee_sp\")"
   ]
  },
  {
   "cell_type": "code",
   "execution_count": null,
   "metadata": {
    "hidden": true
   },
   "outputs": [],
   "source": [
    "fields_to_delete = [\"Join_Count\", \"TARGET_FID\"]\n",
    "arcpy.DeleteField_management(\"sf_coffee_sp\", fields_to_delete)"
   ]
  },
  {
   "cell_type": "code",
   "execution_count": null,
   "metadata": {
    "hidden": true
   },
   "outputs": [],
   "source": [
    "# re-run everything again for demonstration"
   ]
  },
  {
   "cell_type": "code",
   "execution_count": null,
   "metadata": {
    "hidden": true
   },
   "outputs": [],
   "source": []
  }
 ],
 "metadata": {
  "kernelspec": {
   "display_name": "ArcGISPro",
   "language": "Python",
   "name": "python3"
  },
  "language_info": {
   "file_extension": ".py",
   "name": "python",
   "version": "3"
  }
 },
 "nbformat": 4,
 "nbformat_minor": 2
}
