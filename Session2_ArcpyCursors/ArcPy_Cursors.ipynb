{
 "cells": [
  {
   "cell_type": "markdown",
   "metadata": {
    "heading_collapsed": true
   },
   "source": [
    "# ArcPy Cursors !\n",
    "\n",
    "<ul>\n",
    "    <li>Finding and extracting data</li>\n",
    "    <li>Cleaning and Maintaining Table Data</li>\n",
    "</ul>\n",
    "\n",
    "<ul>\n",
    "    <li>ArcPy Search Cursors</li>\n",
    "    <li>ArcPy Update Cursors</li>\n",
    "</ul>"
   ]
  },
  {
   "cell_type": "code",
   "execution_count": null,
   "metadata": {
    "hidden": true
   },
   "outputs": [],
   "source": [
    "import os\n",
    "import arcpy"
   ]
  },
  {
   "cell_type": "markdown",
   "metadata": {
    "hidden": true
   },
   "source": [
    "Now that we have the data prepped how we want it, lets review the table.\n",
    "\n",
    "<br>\n",
    "<br>\n",
    "We have done some geoprocessing, but how do we extract information and transform the table?\n",
    "We use ArcPy Cursors!\n",
    "\n",
    "- [arcpy.da.SearchCursor()](https://pro.arcgis.com/en/pro-app/arcpy/data-access/searchcursor-class.htm)\n",
    "- [arcpy.da.InsertCursor()](https://pro.arcgis.com/en/pro-app/arcpy/data-access/insertcursor-class.htm)\n",
    "- [arcpy.da.UpdateCursor()](https://pro.arcgis.com/en/pro-app/arcpy/data-access/updatecursor-class.htm)\n",
    "\n",
    "<br>\n",
    "ArcPy Cursors require two parameters:\n",
    "<br> 1. Input Feature Class\n",
    "<br> 2. A list of fields"
   ]
  },
  {
   "cell_type": "code",
   "execution_count": null,
   "metadata": {
    "hidden": true
   },
   "outputs": [],
   "source": [
    "# lets first create a search cursor and just explore what the cursor looks like\n",
    "# not the correct way of creating a cursor\n",
    "\n",
    "fields = [\"addr_city\", \"addr_state\", \"name\", \"rating\", \"nhood\"]\n",
    "\n",
    "cursor = arcpy.da.SearchCursor(\"sf_coffee_sp\", fields)"
   ]
  },
  {
   "cell_type": "code",
   "execution_count": null,
   "metadata": {
    "hidden": true,
    "scrolled": true
   },
   "outputs": [],
   "source": [
    "cursor"
   ]
  },
  {
   "cell_type": "code",
   "execution_count": null,
   "metadata": {
    "hidden": true
   },
   "outputs": [],
   "source": [
    "for row in cursor:\n",
    "    print(type(row), row)\n",
    "\n",
    "########### \"addr_city\", \"addr_state\", \"name\", \"rating\", \"nhood\""
   ]
  },
  {
   "cell_type": "code",
   "execution_count": null,
   "metadata": {
    "hidden": true
   },
   "outputs": [],
   "source": [
    "type(cursor)"
   ]
  },
  {
   "cell_type": "code",
   "execution_count": null,
   "metadata": {
    "hidden": true
   },
   "outputs": [],
   "source": [
    "row"
   ]
  },
  {
   "cell_type": "code",
   "execution_count": null,
   "metadata": {
    "hidden": true
   },
   "outputs": [],
   "source": [
    "row[2]"
   ]
  },
  {
   "cell_type": "code",
   "execution_count": null,
   "metadata": {
    "hidden": true
   },
   "outputs": [],
   "source": [
    "for row in cursor:\n",
    "    if row[2] == \"Peet's Coffee\":\n",
    "        print(row)"
   ]
  },
  {
   "cell_type": "code",
   "execution_count": null,
   "metadata": {
    "hidden": true
   },
   "outputs": [],
   "source": [
    "# Once the iterator has been iterated through, \n",
    "# it needs to be reset before you can iterate again\n",
    "# Using the reset method\n",
    "cursor.reset()"
   ]
  },
  {
   "cell_type": "code",
   "execution_count": null,
   "metadata": {
    "hidden": true
   },
   "outputs": [],
   "source": [
    "for row in cursor:\n",
    "    if row[2] == \"Peet's Coffee\":\n",
    "        print(row)"
   ]
  },
  {
   "cell_type": "code",
   "execution_count": null,
   "metadata": {
    "hidden": true
   },
   "outputs": [],
   "source": [
    "row"
   ]
  },
  {
   "cell_type": "code",
   "execution_count": null,
   "metadata": {
    "hidden": true
   },
   "outputs": [],
   "source": [
    "# The cursors are stored in the memory, \n",
    "# if you are working with large tables, you may want to delete them after you're done.\n",
    "del row\n",
    "del cursor"
   ]
  },
  {
   "cell_type": "code",
   "execution_count": null,
   "metadata": {
    "hidden": true,
    "scrolled": true
   },
   "outputs": [],
   "source": [
    "cursor"
   ]
  },
  {
   "cell_type": "code",
   "execution_count": null,
   "metadata": {
    "hidden": true
   },
   "outputs": [],
   "source": [
    "fields = [\"addr_city\", \"addr_state\", \"name\", \"rating\", \"nhood\"]\n",
    "cursor = arcpy.da.SearchCursor(\"sf_coffee_sp\", fields)"
   ]
  },
  {
   "cell_type": "markdown",
   "metadata": {
    "hidden": true
   },
   "source": [
    "Wait, instead of having to delete the cursors and rows, we could instead just use\n",
    "a \"With\" statement! <br>\n",
    "\n",
    "This gives us the ability to temporarily save the cursor, no need to delete it after \n",
    "it's created.\n",
    "\n",
    "<b> The below is the proper way to use a cursor: </b>"
   ]
  },
  {
   "cell_type": "code",
   "execution_count": null,
   "metadata": {
    "hidden": true
   },
   "outputs": [],
   "source": [
    "with arcpy.da.SearchCursor(\"sf_coffee_sp\", fields) as cursor:\n",
    "    for row in cursor:\n",
    "        print(row)"
   ]
  },
  {
   "cell_type": "markdown",
   "metadata": {
    "hidden": true
   },
   "source": [
    "<b> Why are these useful? </b>\n",
    "\n",
    "Imagine you had to get all of the values from the rating fields into a python list, <br>\n",
    "you could do that by using a search cursor to extract that information.\n"
   ]
  },
  {
   "cell_type": "code",
   "execution_count": null,
   "metadata": {
    "hidden": true
   },
   "outputs": [],
   "source": [
    "rating_values = []\n",
    "\n",
    "with arcpy.da.SearchCursor(\"sf_coffee_sp\", fields) as cursor:\n",
    "    for row in cursor:\n",
    "        rating_values.append(row[3])"
   ]
  },
  {
   "cell_type": "code",
   "execution_count": null,
   "metadata": {
    "hidden": true
   },
   "outputs": [],
   "source": [
    "rating_values"
   ]
  },
  {
   "cell_type": "markdown",
   "metadata": {
    "hidden": true
   },
   "source": [
    "<b> We have the values in a list now, but what if we just wanted to see the unique values? <b>\n",
    "<br>\n",
    "<b> What Python data type does not allow duplicates? </b>"
   ]
  },
  {
   "cell_type": "code",
   "execution_count": null,
   "metadata": {
    "hidden": true
   },
   "outputs": [],
   "source": [
    "set(rating_values)"
   ]
  },
  {
   "cell_type": "markdown",
   "metadata": {
    "hidden": true
   },
   "source": [
    "Is there a way we can create a repeatable process so that we could use this logic again with different data in the future?"
   ]
  },
  {
   "cell_type": "markdown",
   "metadata": {
    "hidden": true
   },
   "source": [
    "<b> Notice we have \"Good\" and \"Okay\" within the column </b>\n",
    "<br>\n",
    "We want to clean these up so that the column is made up of all numbers.\n",
    "<br>\n",
    "\n",
    "Since the search cursors return tuples, we are not allowed to make any changes to them, since tuples in python are immutable.\n",
    "<br>\n",
    "However, ArcPy has another cursor method named UpdateCursor(), which will return lists.\n",
    "<br>\n",
    "This will allow us to update the table!"
   ]
  },
  {
   "cell_type": "markdown",
   "metadata": {
    "hidden": true
   },
   "source": [
    "Before we make changes to the table, lets create a copy for backup:"
   ]
  },
  {
   "cell_type": "code",
   "execution_count": null,
   "metadata": {
    "hidden": true,
    "scrolled": true
   },
   "outputs": [],
   "source": [
    "# Clear the selection, just in case any rows are selected!\n",
    "arcpy.management.SelectLayerByAttribute(\"sf_coffee_sp\", \n",
    "                                        \"CLEAR_SELECTION\")\n",
    "\n",
    "arcpy.management.CopyFeatures(\"sf_coffee_sp\", \n",
    "                              \"sf_coffee_sp_copy\")"
   ]
  },
  {
   "cell_type": "markdown",
   "metadata": {
    "hidden": true
   },
   "source": [
    "We will make the changes to the copy version we just created"
   ]
  },
  {
   "cell_type": "code",
   "execution_count": null,
   "metadata": {
    "hidden": true,
    "scrolled": true
   },
   "outputs": [],
   "source": [
    "with arcpy.da.UpdateCursor(\"sf_coffee_sp_copy\", fields) as cursor:\n",
    "    for row in cursor:\n",
    "        print(row)"
   ]
  },
  {
   "cell_type": "code",
   "execution_count": null,
   "metadata": {
    "hidden": true
   },
   "outputs": [],
   "source": [
    "fields = [\"addr_city\", \"addr_state\", \"name\", \"rating\", \"nhood\"]\n",
    "\n",
    "with arcpy.da.UpdateCursor(\"sf_coffee_sp_copy\", fields) as cursor:\n",
    "    for row in cursor:\n",
    "        if row[3] == 'Okay':\n",
    "            row[3] = '3'\n",
    "        elif row[3] == 'Good':\n",
    "            row[3] = '4'\n",
    "\n",
    "        cursor.updateRow(row)"
   ]
  },
  {
   "cell_type": "markdown",
   "metadata": {
    "hidden": true
   },
   "source": [
    "Let's work together to fill in the logic within the below cursors!"
   ]
  },
  {
   "cell_type": "code",
   "execution_count": null,
   "metadata": {
    "hidden": true
   },
   "outputs": [],
   "source": [
    "fields = [\"addr_city\", \"addr_state\", \"name\", \"rating\", \"nhood\"]"
   ]
  },
  {
   "cell_type": "code",
   "execution_count": null,
   "metadata": {
    "hidden": true
   },
   "outputs": [],
   "source": [
    "# There is more cleaning we can do on this table!\n",
    "# Lets update the addr_city field and the addr_state field\n",
    "\n",
    "with arcpy.da.UpdateCursor(\"sf_coffee_sp_copy\", fields) as cursor:\n",
    "    for row in cursor:\n",
    "        # update state column\n",
    "        \n",
    "        # update the city column\n",
    "\n",
    "        cursor.updateRow(row)"
   ]
  },
  {
   "cell_type": "code",
   "execution_count": null,
   "metadata": {
    "hidden": true
   },
   "outputs": [],
   "source": [
    "# lets create a new column using an update cursor that has the full address!\n",
    "# lets also put the text in all caps\n",
    "\n",
    "# first create a new field in the feature layer:\n",
    "arcpy.management.AddField(\"sf_coffee_sp_copy\", \"Full_Address\", \"TEXT\")\n",
    "\n",
    "address_fields = [\"addr_house\", \"addr_stree\", \"Full_Address\"]\n",
    "\n",
    "with arcpy.da.UpdateCursor(\"sf_coffee_sp_copy\", address_fields) as cursor:\n",
    "    for row in cursor:\n",
    "        \n",
    "        cursor.updateRow(row)"
   ]
  },
  {
   "cell_type": "code",
   "execution_count": null,
   "metadata": {
    "hidden": true
   },
   "outputs": [],
   "source": []
  },
  {
   "cell_type": "markdown",
   "metadata": {
    "hidden": true
   },
   "source": [
    "Why we should use cursors over selections and calculate fields!!\n",
    "\n",
    "1. Much Faster\n",
    "2. Code Clarity"
   ]
  },
  {
   "cell_type": "code",
   "execution_count": null,
   "metadata": {
    "hidden": true
   },
   "outputs": [],
   "source": [
    "# how we would typically manually update the fields:\n",
    "\n",
    "arcpy.management.SelectLayerByAttribute(\"sf_coffee_sp_copy\", \"NEW_SELECTION\", \"rating IN ('3', '4', '5') And full_address IS NULL\", None)\n",
    "arcpy.management.CalculateField(\"sf_coffee_sp_copy\", \"full_address\", \"'address doesnt exist'\", \"PYTHON3\", '', \"TEXT\", \"NO_ENFORCE_DOMAINS\")\n",
    "\n",
    "arcpy.management.SelectLayerByAttribute(\"sf_coffee_sp_copy\", \"NEW_SELECTION\", \"rating IN ('2', '1') And full_address IS NULL\", None)\n",
    "arcpy.management.CalculateField(\"sf_coffee_sp_copy\", \"new_field\", \"'test'\", \"PYTHON3\", '', \"TEXT\", \"NO_ENFORCE_DOMAINS\")\n",
    "\n",
    "arcpy.management.SelectLayerByAttribute(\"sf_coffee_sp_copy\", \"NEW_SELECTION\", \"rating IN ('2', '1', '3', '4') And full_address IS NOT NULL\", None)\n",
    "arcpy.management.CalculateField(\"sf_coffee_sp_copy\", \"new_field2\", \"'test'\", \"PYTHON3\", '', \"TEXT\", \"NO_ENFORCE_DOMAINS\")"
   ]
  },
  {
   "cell_type": "code",
   "execution_count": null,
   "metadata": {
    "hidden": true
   },
   "outputs": [],
   "source": []
  }
 ],
 "metadata": {
  "kernelspec": {
   "display_name": "ArcGISPro",
   "language": "Python",
   "name": "python3"
  },
  "language_info": {
   "file_extension": ".py",
   "name": "python",
   "version": "3"
  }
 },
 "nbformat": 4,
 "nbformat_minor": 2
}
