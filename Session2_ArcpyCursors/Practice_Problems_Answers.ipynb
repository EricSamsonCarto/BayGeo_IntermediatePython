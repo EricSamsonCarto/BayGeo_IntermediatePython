{
 "cells": [
  {
   "cell_type": "markdown",
   "metadata": {},
   "source": [
    "### Problem 1"
   ]
  },
  {
   "cell_type": "code",
   "execution_count": null,
   "metadata": {},
   "outputs": [],
   "source": [
    "# get the path to the data folder\n",
    "data_folder = os.path.join(os.getcwd(), \"Data\")\n",
    "\n",
    "# use the walk function to create a walk on the data folder\n",
    "walk = arcpy.da.Walk(data_folder)\n",
    "\n",
    "#loop through the walk object (remember, this is an iterable tuple)\n",
    "for dirpath, dirnames, filenames in walk:\n",
    "    for filename in filenames:\n",
    "        #recreate the full path to the file so that we can use get count\n",
    "        file_path = os.path.join(dirpath, filename)\n",
    "        #get count of file \n",
    "        count = arcpy.GetCount_management(file_path)\n",
    "        #then use an f statement to create the print statement\n",
    "        print(f'Name: {filename}, Count: {count}')"
   ]
  },
  {
   "cell_type": "markdown",
   "metadata": {},
   "source": [
    "### Problem 2"
   ]
  },
  {
   "cell_type": "code",
   "execution_count": null,
   "metadata": {},
   "outputs": [],
   "source": [
    "# create list of fields we need (rating, addr_stree)\n",
    "fields = [\"rating\", \"addr_stree\"]\n",
    "\n",
    "# create search cursor using a with statement, input should be\n",
    "# the sf coffee feature class and the fields list created above\n",
    "with arcpy.da.SearchCursor(\"sf_coffee_sp\", fields) as cursor:\n",
    "    #iterate through cursor using a for loop\n",
    "    for row in cursor:\n",
    "        # create conditional to find records that have ratings equaling 5, \n",
    "        # and where the addr_street column is not empty space\n",
    "        # remember, the rating column is a text column, so 5 will need to be \n",
    "        # in quotes to represent a string: \"5\"\n",
    "        if (row[0] == \"5\") and (row[1] != \" \"):\n",
    "            # use an f string to create a print statement\n",
    "            print(f'Rating: {row[0]}, Street Address: {row[1]}')"
   ]
  },
  {
   "cell_type": "markdown",
   "metadata": {},
   "source": [
    "### Problem 3"
   ]
  },
  {
   "cell_type": "code",
   "execution_count": null,
   "metadata": {},
   "outputs": [],
   "source": [
    "# add new field called Best_Coffee\n",
    "arcpy.management.AddField(\"sf_coffee_sp\", \"Best_Coffee\", \"TEXT\")\n",
    "\n",
    "# create lists of fields we are going to use: (rating, Best_Coffee)\n",
    "fields = ['rating', 'Best_Coffee']\n",
    "\n",
    "# create cursor using with statement\n",
    "with arcpy.da.UpdateCursor(\"sf_coffee_sp\", fields) as cursor:\n",
    "    #iterate through cursor using for loop\n",
    "    for row in cursor:\n",
    "        # if the rating field is equal to 4 or 5\n",
    "        # add \"Best\" to the Best_Coffee column\n",
    "        if (row[0] == '4') or (row[0] == '5'):\n",
    "            row[1] = 'Best'\n",
    "        # else, write Not Good to the Best_Coffee column\n",
    "        else:\n",
    "            row[1] = \"Not Good\"\n",
    "        # Don't forget to update the cursor after you have made your changes!\n",
    "        cursor.updateRow(row)"
   ]
  }
 ],
 "metadata": {
  "kernelspec": {
   "display_name": "ArcGISPro",
   "language": "Python",
   "name": "python3"
  },
  "language_info": {
   "file_extension": ".py",
   "name": "python",
   "version": "3"
  }
 },
 "nbformat": 4,
 "nbformat_minor": 2
}
