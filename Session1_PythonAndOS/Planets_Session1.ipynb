{
 "cells": [
  {
   "cell_type": "code",
   "execution_count": 1,
   "metadata": {},
   "outputs": [],
   "source": [
    "import os"
   ]
  },
  {
   "cell_type": "code",
   "execution_count": null,
   "metadata": {},
   "outputs": [],
   "source": [
    "#Our Planet Solution"
   ]
  },
  {
   "cell_type": "code",
   "execution_count": null,
   "metadata": {},
   "outputs": [],
   "source": [
    "for f in os.listdir(\"ThePlanets\"):\n",
    "    filename = os.path.splitext(f)[0]\n",
    "    file_ext = os.path.splitext(f)[1]\n",
    "\n",
    "    f_planet = filename.split('-')[0]\n",
    "    f_title = filename.split('-')[1]\n",
    "    f_num = filename.split('-')[2]\n",
    "    \n",
    "    print(f_planet, f_title, f_num)"
   ]
  },
  {
   "cell_type": "code",
   "execution_count": null,
   "metadata": {},
   "outputs": [],
   "source": [
    "#remove f_title = filename.split('-')[1]"
   ]
  },
  {
   "cell_type": "code",
   "execution_count": null,
   "metadata": {},
   "outputs": [],
   "source": [
    "for f in os.listdir(\"ThePlanets\"):\n",
    "    filename = os.path.splitext(f)[0]\n",
    "    file_ext = os.path.splitext(f)[1]\n",
    "\n",
    "    f_planet = filename.split('-')[0]\n",
    "    f_num = filename.split('-')[2]\n",
    "\n",
    "    new_name = f'{f_num}_{f_planet}{file_ext}'\n",
    "    print(new_name)"
   ]
  },
  {
   "cell_type": "code",
   "execution_count": null,
   "metadata": {},
   "outputs": [],
   "source": [
    "#replace string"
   ]
  },
  {
   "cell_type": "code",
   "execution_count": null,
   "metadata": {},
   "outputs": [],
   "source": [
    "for f in os.listdir(\"ThePlanets\"):\n",
    "    filename = os.path.splitext(f)[0]\n",
    "    file_ext = os.path.splitext(f)[1]\n",
    "\n",
    "    f_planet = filename.split('-')[0]\n",
    "    f_num = filename.split('-')[2].replace('#', '')\n",
    "\n",
    "    new_name = f'{f_num}_{f_planet}{file_ext}'\n",
    "    \n",
    "    os.rename(f, new_name)"
   ]
  },
  {
   "cell_type": "code",
   "execution_count": null,
   "metadata": {},
   "outputs": [],
   "source": [
    "for f in os.listdir(\"ThePlanets\"):\n",
    "    filename = os.path.splitext(f)[0]\n",
    "    file_ext = os.path.splitext(f)[1]\n",
    "\n",
    "    f_planet = filename.split('-')[0]\n",
    "    f_num = filename.split('-')[2].replace('#', '')\n",
    "\n",
    "    new_name = f'{f_num}_{f_planet}{file_ext}'\n",
    "    \n",
    "    og_file_path = os.path.join(\".\\ThePlanets\", f)\n",
    "    new_file_path = os.path.join(\".\\ThePlanets\", new_name)\n",
    "    os.rename(og_file_path, new_file_path)"
   ]
  },
  {
   "cell_type": "code",
   "execution_count": 2,
   "metadata": {},
   "outputs": [],
   "source": [
    "#first question\n",
    "for f in os.listdir(\"ThePlanets\"):\n",
    "    og_file_path = os.path.join(\"ThePlanets\", f)\n",
    "    if os.path.isfile(og_file_path):\n",
    "        print('true')\n",
    "        og_f_name = os.path.splitext(f)[0]\n",
    "        f_ext = os.path.splitext(f)[1]\n",
    "\n",
    "        planet_name = og_f_name.split('-')[0]\n",
    "        num = og_f_name.split('-')[2].replace('#', '')\n",
    "\n",
    "        new_name = f'{num}_{planet_name}{f_ext}'\n",
    "    \n",
    "        new_file_path = os.path.join(\".\\ThePlanets\", new_name)\n",
    "        os.rename(og_file_path, new_file_path)"
   ]
  },
  {
   "cell_type": "code",
   "execution_count": null,
   "metadata": {},
   "outputs": [],
   "source": [
    "#Second Question\n",
    "for f in os.listdir(\"ThePlanets\"):\n",
    "    og_file_path = os.path.join(\"ThePlanets\", f)\n",
    "    if os.path.isfile(og_file_path):\n",
    "        f_ext = os.path.splitext(f)[1]\n",
    "        if f_ext == '.txt':\n",
    "            og_f_name = os.path.splitext(f)[0]\n",
    "\n",
    "            planet_name = og_f_name.split('-')[0]\n",
    "            num = og_f_name.split('-')[2].replace('#', '')\n",
    "\n",
    "            new_name = f'{num}_{planet_name}{f_ext}'\n",
    "        \n",
    "            new_file_path = os.path.join(\"ThePlanets\", new_name)\n",
    "            os.rename(og_file_path, new_file_path)"
   ]
  },
  {
   "cell_type": "code",
   "execution_count": 3,
   "metadata": {},
   "outputs": [],
   "source": []
  },
  {
   "cell_type": "code",
   "execution_count": null,
   "metadata": {},
   "outputs": [],
   "source": []
  },
  {
   "cell_type": "code",
   "execution_count": null,
   "metadata": {},
   "outputs": [],
   "source": []
  }
 ],
 "metadata": {
  "interpreter": {
   "hash": "7c8105ee89566caf1213cdc351d20cc6685bee006a1d854f4577f91ad9c8ce10"
  },
  "kernelspec": {
   "display_name": "ArcGISPro",
   "language": "Python",
   "name": "python3"
  },
  "language_info": {
   "file_extension": ".py",
   "name": "python",
   "version": "3"
  }
 },
 "nbformat": 4,
 "nbformat_minor": 2
}
