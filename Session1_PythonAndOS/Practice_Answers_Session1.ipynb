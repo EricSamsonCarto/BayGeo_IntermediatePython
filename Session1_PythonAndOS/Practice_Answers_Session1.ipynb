{
 "cells": [
  {
   "cell_type": "code",
   "execution_count": null,
   "metadata": {},
   "outputs": [],
   "source": [
    "import os"
   ]
  },
  {
   "cell_type": "code",
   "execution_count": null,
   "metadata": {},
   "outputs": [],
   "source": [
    "# 1\n",
    "\n",
    "# use the os package to create a list of files from the SampleTextFiles folder\n",
    "current_folder = os.getcwd()\n",
    "text_file_folder = os.path.join(current_folder, 'SampleTextFiles')\n",
    "file_list = os.listdir(text_file_folder)\n",
    "\n",
    "# use a for loop to loop through the list\n",
    "for f in file_list:\n",
    "    # print the name of every file within the folder on each loop\n",
    "    print(f)"
   ]
  },
  {
   "cell_type": "code",
   "execution_count": null,
   "metadata": {},
   "outputs": [],
   "source": [
    "# 2\n",
    "\n",
    "# use the os package to create a list of files from the SampleTextFiles folder\n",
    "current_folder = os.getcwd()\n",
    "text_file_folder = os.path.join(current_folder, 'SampleTextFiles')\n",
    "file_list = os.listdir(text_file_folder)\n",
    "\n",
    "#loop through the folder containing the text files\n",
    "for f in file_list:\n",
    "    #check if the filename starts with \"J\"\n",
    "    if f.startswith('J'):\n",
    "        #split the text file to seperate the extension and filename, \n",
    "        #saving the extension and filenames as variables\n",
    "        og_filename = os.path.splitext(f)[0]\n",
    "        extension = os.path.splitext(f)[1]\n",
    "\n",
    "        #create a new string for the new filename using an f-string, \n",
    "        #include the \"_HERE\" tag within the f-string\n",
    "        new_filename = f'{og_filename}_HERE{extension}'\n",
    "        \n",
    "        #create the full file path for both the original file and the new file\n",
    "        og_file_path = os.path.join(text_file_folder, f)\n",
    "        new_file_path = os.path.join(text_file_folder, new_filename)\n",
    "        \n",
    "        #rename the files using the full paths\n",
    "        os.rename(og_file_path, new_file_path)"
   ]
  },
  {
   "cell_type": "code",
   "execution_count": 17,
   "metadata": {},
   "outputs": [],
   "source": [
    "# 3\n",
    "\n",
    "# get path to a sample text file\n",
    "current_folder = os.getcwd()\n",
    "text_file_folder = os.path.join(current_folder, 'SampleTextFiles')\n",
    "joe_text_file = os.path.join(text_file_folder, 'Joe_textfile.txt')\n",
    "\n",
    "# use with open to open the path to the file within append mode\n",
    "with open(joe_text_file, 'a') as f:\n",
    "    #write the text to the file\n",
    "    f.write(\"hi! from Python!\")"
   ]
  },
  {
   "cell_type": "code",
   "execution_count": null,
   "metadata": {},
   "outputs": [],
   "source": [
    "# 4\n",
    "\n",
    "planet_folder = os.path.join(current_folder, 'ThePlanets')\n",
    "planet_file_list = os.listdir(planet_folder)\n",
    "\n",
    "#Loop through the files in the planets folder\n",
    "for text_file in planet_file_list:\n",
    "    #if the file is the Earth file, open the file in append mode\n",
    "    if \"Earth\" in text_file:\n",
    "        earth_text_file_path = os.path.join(planet_folder, text_file)\n",
    "        with open(earth_text_file_path, 'a') as f:\n",
    "            #write the text to the file\n",
    "            f.write('Earth is Beautiful')\n",
    "    #if the file is the neptune file, open the file in append mode\n",
    "    elif \"Neptune\" in text_file:\n",
    "        nep_text_file_path = os.path.join(planet_folder, text_file)\n",
    "        with open(nep_text_file_path, 'a') as f:\n",
    "            #write the text to the file\n",
    "            f.write('Neptune is Beautiful, but far too cold for me.')\n",
    "    else:\n",
    "        print('Not Earth or Neptune!')"
   ]
  }
 ],
 "metadata": {
  "kernelspec": {
   "display_name": "ArcGISPro",
   "language": "Python",
   "name": "python3"
  },
  "language_info": {
   "file_extension": ".py",
   "name": "python",
   "version": "3"
  }
 },
 "nbformat": 4,
 "nbformat_minor": 2
}
