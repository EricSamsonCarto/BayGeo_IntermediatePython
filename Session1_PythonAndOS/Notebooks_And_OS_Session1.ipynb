{
 "cells": [
  {
   "cell_type": "markdown",
   "metadata": {
    "heading_collapsed": true
   },
   "source": [
    "## BayGeo Intermediate Python Course\n",
    "\n",
    "\n",
    "<img src=\"https://i.pinimg.com/originals/ca/00/60/ca0060f3414e6e20b75983acddafad53.gif\" width=\"300\" style=\"float: left; margin: 0px 50px 50px 0px;\">\n",
    "\n",
    "\n",
    "### Workshop 1 Outline:\n",
    "<ul>\n",
    "    <li>Using Notebooks within ArcGIS Pro</li>\n",
    "    <li>Python Data Types and Basics Review</li>\n",
    "    <li>Navigating the Operating System and Files with Python</li>\n",
    "    <li>Reading and Writing Text Files</li>\n",
    "</ul>"
   ]
  },
  {
   "cell_type": "markdown",
   "metadata": {
    "hidden": true
   },
   "source": [
    "### Using Notebooks within ArcGIS Pro\n",
    "\n",
    "<ul>\n",
    "    <li>Easy to share code for quick ideas</li>\n",
    "    <li>Access to feature layers (More on this later)</li>\n",
    "    <li>Markdown capabilities!</li>\n",
    "</ul>\n",
    "\n",
    "### Handy Keyboard shortcuts for Notebooks\n",
    "\n",
    "<ul>\n",
    "    <li>Create new cell: Click on a cell, and press b</li>\n",
    "    <li>Cut a cell: Click on a cell, Press x</li>\n",
    "    <li>Shift+Enter will run a cell</li>\n",
    "    <li>Enter Markdown: Click on a cell, press esc then m then enter</li>\n",
    "</ul>\n",
    "\n",
    "Markdown cells are fully customizable, add images, gifs, and HTML code."
   ]
  },
  {
   "cell_type": "markdown",
   "metadata": {
    "hidden": true
   },
   "source": [
    "### Navigating the Operating System and Files with Python\n",
    "\n",
    "#### OS allows us to interact with the underlying operating system:<br>\n",
    "https://docs.python.org/3/library/os.html\n",
    "\n",
    "-navigate the file system<br>\n",
    "-get file information<br>\n",
    "-rename files<br>\n",
    "And much more!"
   ]
  },
  {
   "cell_type": "code",
   "execution_count": null,
   "metadata": {
    "hidden": true
   },
   "outputs": [],
   "source": [
    "# How does python interpret paths to files on your computer?\n",
    "path = 'C:\\Users\\Eric\\Desktop'"
   ]
  },
  {
   "cell_type": "markdown",
   "metadata": {
    "hidden": true
   },
   "source": [
    "In Python strings, the backslash \"\\\\\" is a special character, also called the \"escape\" character. <br> \n",
    "It is used in representing certain whitespace characters: \"\\t\" is a tab, \"\\n\" is a newline, and \"\\r\" is a carriage return."
   ]
  },
  {
   "cell_type": "code",
   "execution_count": null,
   "metadata": {
    "hidden": true
   },
   "outputs": [],
   "source": [
    "# therefore the above path will not work and an error will be thrown\n",
    "# instead, we can place an \"r\" in front of the path, which stands for raw string\n",
    "# or we could use double backslashes\n",
    "\n",
    "path = r'C:\\Users\\eric.samson\\Desktop'\n",
    "\n",
    "#path = 'C:\\\\Users\\\\eric.samson\\\\Desktop'"
   ]
  },
  {
   "cell_type": "markdown",
   "metadata": {
    "hidden": true
   },
   "source": [
    "<b>To help make working with paths and local files easier, python has the os package built in </b>"
   ]
  },
  {
   "cell_type": "code",
   "execution_count": null,
   "metadata": {
    "hidden": true
   },
   "outputs": [],
   "source": [
    "import os"
   ]
  },
  {
   "cell_type": "markdown",
   "metadata": {
    "hidden": true
   },
   "source": [
    "<b> Importing is how we load external functions from pre-built packages. It helps us use logic that is already built in python without us needing to recreate anything!</b>"
   ]
  },
  {
   "cell_type": "code",
   "execution_count": null,
   "metadata": {
    "hidden": true
   },
   "outputs": [],
   "source": [
    "import antigravity"
   ]
  },
  {
   "cell_type": "code",
   "execution_count": null,
   "metadata": {
    "hidden": true
   },
   "outputs": [],
   "source": [
    "os.getcwd()"
   ]
  },
  {
   "cell_type": "code",
   "execution_count": null,
   "metadata": {
    "hidden": true
   },
   "outputs": [],
   "source": [
    "# this can take a path as an argument, or it will list the files within the current working directory\n",
    "os.listdir()"
   ]
  },
  {
   "cell_type": "code",
   "execution_count": null,
   "metadata": {
    "hidden": true
   },
   "outputs": [],
   "source": [
    "# The below is something you will see a lot of!\n",
    "# More on this in a second\n",
    "\n",
    "current_folder = os.getcwd()\n",
    "os.path.join(current_folder, 'SampleTextFiles')"
   ]
  },
  {
   "cell_type": "code",
   "execution_count": null,
   "metadata": {
    "hidden": true
   },
   "outputs": [],
   "source": [
    "new_path = os.path.join(current_folder, 'SampleTextFiles')\n",
    "\n",
    "os.chdir(new_path)"
   ]
  },
  {
   "cell_type": "code",
   "execution_count": null,
   "metadata": {
    "hidden": true
   },
   "outputs": [],
   "source": [
    "os.getcwd()"
   ]
  },
  {
   "cell_type": "code",
   "execution_count": null,
   "metadata": {
    "hidden": true
   },
   "outputs": [],
   "source": [
    "os.listdir()"
   ]
  },
  {
   "cell_type": "code",
   "execution_count": null,
   "metadata": {
    "hidden": true
   },
   "outputs": [],
   "source": [
    "new_folder = \"OS_SampleFolder\"\n",
    "\n",
    "os.mkdir(new_folder)"
   ]
  },
  {
   "cell_type": "code",
   "execution_count": null,
   "metadata": {
    "hidden": true
   },
   "outputs": [],
   "source": [
    "new_folder_sub_folder = \"OS_SampleFolder2/SubFolder\"\n",
    "\n",
    "os.makedirs(new_folder_sub_folder)"
   ]
  },
  {
   "cell_type": "code",
   "execution_count": null,
   "metadata": {
    "hidden": true
   },
   "outputs": [],
   "source": [
    "os.path.exists(new_folder)"
   ]
  },
  {
   "cell_type": "code",
   "execution_count": null,
   "metadata": {
    "hidden": true
   },
   "outputs": [],
   "source": [
    "os.mkdir(new_folder)"
   ]
  },
  {
   "cell_type": "code",
   "execution_count": null,
   "metadata": {
    "hidden": true
   },
   "outputs": [],
   "source": [
    "#Handy Code to create a folder only if it does not yet exist! \n",
    "if os.path.exists(new_folder) == False:\n",
    "    os.mkdir(new_folder)"
   ]
  },
  {
   "cell_type": "code",
   "execution_count": null,
   "metadata": {
    "hidden": true
   },
   "outputs": [],
   "source": [
    "os.listdir()"
   ]
  },
  {
   "cell_type": "code",
   "execution_count": null,
   "metadata": {
    "hidden": true
   },
   "outputs": [],
   "source": [
    "os.rename('Eric_textfile.txt', 'Eric_textfile_2.txt')"
   ]
  },
  {
   "cell_type": "code",
   "execution_count": null,
   "metadata": {
    "hidden": true
   },
   "outputs": [],
   "source": [
    "os.listdir()"
   ]
  },
  {
   "cell_type": "code",
   "execution_count": null,
   "metadata": {
    "hidden": true
   },
   "outputs": [],
   "source": [
    "os.rename('Eric_textfile_2.txt', 'Eric_textfile.txt')"
   ]
  },
  {
   "cell_type": "code",
   "execution_count": null,
   "metadata": {
    "hidden": true
   },
   "outputs": [],
   "source": [
    "#getting the full path for each text file\n",
    "folder = os.getcwd()\n",
    "file_list = os.listdir()\n",
    "\n",
    "for f in file_list:\n",
    "    file_path = os.path.join(folder, f)\n",
    "    print(file_path)"
   ]
  },
  {
   "cell_type": "code",
   "execution_count": null,
   "metadata": {
    "hidden": true
   },
   "outputs": [],
   "source": [
    "os.path.isfile(file_path)"
   ]
  },
  {
   "cell_type": "code",
   "execution_count": null,
   "metadata": {
    "hidden": true
   },
   "outputs": [],
   "source": [
    "os.path.isdir(file_path)"
   ]
  },
  {
   "cell_type": "code",
   "execution_count": null,
   "metadata": {
    "hidden": true,
    "scrolled": true
   },
   "outputs": [],
   "source": [
    "for f in os.listdir():\n",
    "    file_path = os.path.join(folder, f)\n",
    "    if os.path.isfile(file_path):\n",
    "        print(file_path)"
   ]
  },
  {
   "cell_type": "markdown",
   "metadata": {
    "hidden": true
   },
   "source": [
    "Handy String Manipulations in OS!"
   ]
  },
  {
   "cell_type": "code",
   "execution_count": null,
   "metadata": {
    "hidden": true
   },
   "outputs": [],
   "source": [
    "os.path.basename(file_path)"
   ]
  },
  {
   "cell_type": "code",
   "execution_count": null,
   "metadata": {
    "hidden": true
   },
   "outputs": [],
   "source": [
    "os.path.dirname(file_path)"
   ]
  },
  {
   "cell_type": "code",
   "execution_count": null,
   "metadata": {
    "hidden": true
   },
   "outputs": [],
   "source": [
    "os.path.splitext(file_path)"
   ]
  },
  {
   "cell_type": "markdown",
   "metadata": {
    "hidden": true
   },
   "source": [
    "We can combine the above to get the extension as a string!"
   ]
  },
  {
   "cell_type": "code",
   "execution_count": null,
   "metadata": {
    "hidden": true
   },
   "outputs": [],
   "source": [
    "filename = os.path.basename(file_path)\n",
    "os.path.splitext(filename)[1]"
   ]
  },
  {
   "cell_type": "markdown",
   "metadata": {
    "hidden": true
   },
   "source": [
    "<b> Okay, but how is this helpful???? </b>\n",
    "\n",
    "Let's look at an example. Review the \"Planets\" Directory. <br>\n",
    "All of the names are kind of in a strange format, following this pattern: Saturn-Our Solar System-#6. <br>\n",
    "Let's rename them so they appear something like this: 1_Mercury <br>\n",
    "Use your imagination, in a work environment you could have thousands of files that require a name change!"
   ]
  },
  {
   "cell_type": "code",
   "execution_count": null,
   "metadata": {
    "hidden": true
   },
   "outputs": [],
   "source": [
    "os.getcwd()"
   ]
  },
  {
   "cell_type": "code",
   "execution_count": null,
   "metadata": {
    "hidden": true
   },
   "outputs": [],
   "source": [
    "current_folder = os.getcwd()\n",
    "path_parent = os.path.dirname(current_folder)\n",
    "os.chdir(path_parent)\n",
    "\n",
    "print(path_parent)"
   ]
  },
  {
   "cell_type": "code",
   "execution_count": null,
   "metadata": {
    "hidden": true
   },
   "outputs": [],
   "source": [
    "os.path.dirname(os.getcwd())"
   ]
  },
  {
   "cell_type": "code",
   "execution_count": null,
   "metadata": {
    "hidden": true
   },
   "outputs": [],
   "source": [
    "for f in os.listdir(\"ThePlanets\"):\n",
    "    print(f)"
   ]
  },
  {
   "cell_type": "markdown",
   "metadata": {
    "hidden": true
   },
   "source": [
    "<b> Lets Put this All Together! </b>"
   ]
  },
  {
   "cell_type": "code",
   "execution_count": null,
   "metadata": {
    "hidden": true
   },
   "outputs": [],
   "source": []
  },
  {
   "cell_type": "markdown",
   "metadata": {
    "hidden": true
   },
   "source": [
    "<b> What would we do if there were folders within the directory? </b>"
   ]
  },
  {
   "cell_type": "code",
   "execution_count": null,
   "metadata": {
    "hidden": true
   },
   "outputs": [],
   "source": []
  },
  {
   "cell_type": "markdown",
   "metadata": {
    "hidden": true
   },
   "source": [
    "<b> What would we do if there were other file types within the directory but we only wanted to interact with .txt files?? </b>"
   ]
  },
  {
   "cell_type": "code",
   "execution_count": null,
   "metadata": {
    "hidden": true
   },
   "outputs": [],
   "source": []
  },
  {
   "cell_type": "markdown",
   "metadata": {
    "hidden": true
   },
   "source": [
    "### Reading and Writing Text Files\n"
   ]
  },
  {
   "cell_type": "code",
   "execution_count": null,
   "metadata": {
    "hidden": true
   },
   "outputs": [],
   "source": [
    "current_folder = os.getcwd()\n",
    "text_file = os.path.join(current_folder, r'SampleTextFiles\\Amanda_textfile.txt')"
   ]
  },
  {
   "cell_type": "markdown",
   "metadata": {
    "hidden": true
   },
   "source": [
    "Reading and Writing Files in python is very important! <br>\n",
    "The first method I will show you is the wrong way:"
   ]
  },
  {
   "cell_type": "code",
   "execution_count": null,
   "metadata": {
    "hidden": true,
    "scrolled": true
   },
   "outputs": [],
   "source": [
    "file = open(text_file, 'r')\n",
    "content = file.read()\n",
    "print(content)\n",
    "file.close()"
   ]
  },
  {
   "cell_type": "markdown",
   "metadata": {
    "hidden": true
   },
   "source": [
    "It is best to use the with statement.\n",
    "\n",
    "This is an example of what is called a Context Manager within Python"
   ]
  },
  {
   "cell_type": "code",
   "execution_count": null,
   "metadata": {
    "hidden": true
   },
   "outputs": [],
   "source": [
    "with open(text_file, 'r') as file:\n",
    "    content = file.read()\n",
    "    print(content)"
   ]
  },
  {
   "cell_type": "code",
   "execution_count": null,
   "metadata": {
    "hidden": true
   },
   "outputs": [],
   "source": [
    "with open(text_file, 'r') as f:\n",
    "    for line in f:\n",
    "        print(line)"
   ]
  },
  {
   "cell_type": "code",
   "execution_count": null,
   "metadata": {
    "hidden": true
   },
   "outputs": [],
   "source": [
    "with open(text_file, 'r') as f:\n",
    "    f.write('TEST')"
   ]
  },
  {
   "cell_type": "code",
   "execution_count": null,
   "metadata": {
    "hidden": true
   },
   "outputs": [],
   "source": [
    "# if it doesn't exist, this will create it. \n",
    "# if it does exist, it will overwrite. Be careful!\n",
    "with open('test.txt', 'w') as f:\n",
    "    f.write('TEST')"
   ]
  },
  {
   "cell_type": "markdown",
   "metadata": {
    "hidden": true
   },
   "source": [
    "Lets use the append option to write a new line to the text file"
   ]
  },
  {
   "cell_type": "code",
   "execution_count": null,
   "metadata": {
    "hidden": true
   },
   "outputs": [],
   "source": [
    "with open(text_file, 'a') as f:\n",
    "    #f.write('\\n')\n",
    "    f.write('7. This is the seventh line! Written from python')"
   ]
  },
  {
   "cell_type": "markdown",
   "metadata": {
    "hidden": true
   },
   "source": [
    "What can we do with this? <br>\n",
    "Other than writing to a new text file, <br>\n",
    "we can also grab information from a text file!"
   ]
  },
  {
   "cell_type": "code",
   "execution_count": null,
   "metadata": {
    "hidden": true
   },
   "outputs": [],
   "source": [
    "with open(text_file, 'r') as f:\n",
    "    for line in f:\n",
    "        if \"BayGeo\" in line:\n",
    "            info = line\n",
    "\n",
    "info"
   ]
  }
 ],
 "metadata": {
  "kernelspec": {
   "display_name": "ArcGISPro",
   "language": "Python",
   "name": "python3"
  },
  "language_info": {
   "file_extension": ".py",
   "name": "python",
   "version": "3"
  },
  "vscode": {
   "interpreter": {
    "hash": "e5813a5570aca12a606c59e140999b50e26e08fcc7a3d438fe418c55869c49c1"
   }
  }
 },
 "nbformat": 4,
 "nbformat_minor": 2
}
