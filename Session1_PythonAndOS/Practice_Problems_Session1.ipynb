{
 "cells": [
  {
   "cell_type": "markdown",
   "metadata": {},
   "source": [
    "### Practice Problems\n",
    "\n"
   ]
  },
  {
   "cell_type": "markdown",
   "metadata": {},
   "source": [
    "#### First Problem:\n",
    "\n",
    "Loop through the files within the SampleTextFiles folder.<br>\n",
    "Print the name of every file within the folder <br>\n",
    "\n",
    "Remember, there are no folders within the SampleTextFiles folder, so no need to filter for files only"
   ]
  },
  {
   "cell_type": "code",
   "execution_count": null,
   "metadata": {},
   "outputs": [],
   "source": [
    "# use the os package to create a list of files from the SampleTextFiles folder\n",
    "\n",
    "# use a for loop to loop through the list\n",
    "\n",
    "# print the name of every file within the folder on each loop"
   ]
  },
  {
   "cell_type": "markdown",
   "metadata": {},
   "source": [
    "#### Second Problem:\n",
    "\n",
    "Now that we have a loop set up in the above problem, lets use the code above, but this time<br>\n",
    "Loop through the files within the SampleTextFiles folder, and <br>\n",
    "If there are names that start with \"J\"<br>\n",
    "Rename these files to include \"\\_HERE\" on the end of their filenames <br>\n",
    "for example: \"Jimmy_textfile\" -> \"Jimmy_textfile_HERE\""
   ]
  },
  {
   "cell_type": "code",
   "execution_count": null,
   "metadata": {},
   "outputs": [],
   "source": [
    "#loop through the folder containing the text files\n",
    "\n",
    "#check if the filename starts with \"J\"\n",
    "\n",
    "#split the text file to seperate the extension and filename, saving the extension and filenames as variables\n",
    "\n",
    "#create a new string for the new filename using an f-string, include the \"_HERE\" tag within the f-string\n",
    "\n",
    "#create the full file path for both the original file and the new file\n",
    "\n",
    "#rename the files using the full paths"
   ]
  },
  {
   "cell_type": "markdown",
   "metadata": {},
   "source": [
    "#### Third Problem\n",
    "\n",
    "Get the path to the Joe_textfile.txt file within the SampleTextFiles<br>\n",
    "Open it within python in append mode<br>\n",
    "Append a new line within the file that say's \"hi! from Python!\"<br>\n"
   ]
  },
  {
   "cell_type": "code",
   "execution_count": null,
   "metadata": {},
   "outputs": [],
   "source": [
    "# get path to a sample text file\n",
    "\n",
    "# use with open to open the path to the file within append mode\n",
    "\n",
    "# write the text to the file"
   ]
  },
  {
   "cell_type": "markdown",
   "metadata": {},
   "source": [
    "#### Fourth Problem (Challenge!)\n",
    "\n",
    "We want to add some information into the text files for <br>\n",
    "the Earth and the Neptune planet text files. <br>\n",
    "Loop through the planet text files, and enter the following information into the earth textfile: <br>\n",
    "\"Earth is Beautiful\"<br>\n",
    "Enter the following information into the Neptune textfile: <br>\n",
    "\"Neptune is Beautiful, but far too cold for me.\" <br>\n",
    "\n",
    "Remember, these files are empty.\n",
    "\n",
    "#### <b>Hint!</b><br>\n",
    "To check if a string is within another string, we want to use the <b>in</b> operator, For example:<br>\n",
    "string = \"Hi my name is Eric\"<br>\n",
    "\n",
    "-print(\"my\" in string)<br> The above will return True<br>\n",
    "\n",
    "-print(\"Eric\" in string)<br> The above will also return True<br>\n",
    "\n",
    "-print(\"today\" in string)<br> But the above will return false<br>\n"
   ]
  },
  {
   "cell_type": "code",
   "execution_count": null,
   "metadata": {},
   "outputs": [],
   "source": [
    "#Loop through the files in the planets folder\n",
    "\n",
    "#if the file is the Earth file, open the file in append mode\n",
    "\n",
    "#write the text to the file\n",
    "\n",
    "#if the file is the neptune file, open the file in append mode\n",
    "\n",
    "#write the text to the file"
   ]
  },
  {
   "cell_type": "code",
   "execution_count": null,
   "metadata": {},
   "outputs": [],
   "source": []
  }
 ],
 "metadata": {
  "kernelspec": {
   "display_name": "ArcGISPro",
   "language": "Python",
   "name": "python3"
  },
  "language_info": {
   "file_extension": ".py",
   "name": "python",
   "version": "3"
  }
 },
 "nbformat": 4,
 "nbformat_minor": 2
}
