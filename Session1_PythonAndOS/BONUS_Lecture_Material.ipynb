{
 "cells": [
  {
   "cell_type": "markdown",
   "metadata": {},
   "source": [
    "### Working with CSV's in Python\n",
    "\n",
    "https://docs.python.org/3/library/csv.html\n",
    "\n",
    "Reading and Writing to CSVs using python's csv module!"
   ]
  },
  {
   "cell_type": "code",
   "execution_count": null,
   "metadata": {},
   "outputs": [],
   "source": [
    "# import the csv module\n",
    "import csv"
   ]
  },
  {
   "cell_type": "code",
   "execution_count": null,
   "metadata": {},
   "outputs": [],
   "source": [
    "# creates an iterable object in memory\n",
    "with open('data.csv', 'r') as csv_file:\n",
    "    # use the .reader function to read in the csv information\n",
    "    csv_reader = csv.reader(csv_file)\n",
    "\n",
    "csv_reader"
   ]
  },
  {
   "cell_type": "code",
   "execution_count": null,
   "metadata": {},
   "outputs": [],
   "source": [
    "with open('data.csv', 'r') as csv_file:\n",
    "    csv_reader = csv.reader(csv_file)\n",
    "    # loop through the csv reader and print each line\n",
    "    for line in csv_reader:\n",
    "        print(line)"
   ]
  },
  {
   "cell_type": "code",
   "execution_count": null,
   "metadata": {},
   "outputs": [],
   "source": [
    "with open('data.csv', 'r') as csv_file:\n",
    "    csv_reader = csv.reader(csv_file)\n",
    "    \n",
    "    #skip the headers or column names within the csv\n",
    "    next(csv_reader)\n",
    "    \n",
    "    #print the line in position 2\n",
    "    for line in csv_reader:\n",
    "        print(line[2])"
   ]
  },
  {
   "cell_type": "code",
   "execution_count": null,
   "metadata": {},
   "outputs": [],
   "source": [
    "# lists are great, but it's usually easier to review \n",
    "# table like data within dictionaries\n",
    "# here we will use the .DictReader function to review the\n",
    "# data within the csv\n",
    "\n",
    "with open('data.csv', 'r') as csv_file:\n",
    "    # read in the csv values as dictionaries\n",
    "    csv_dict_reader = csv.DictReader(csv_file)\n",
    "    \n",
    "    for line in csv_dict_reader:\n",
    "        print(line)"
   ]
  },
  {
   "cell_type": "code",
   "execution_count": null,
   "metadata": {},
   "outputs": [],
   "source": [
    "# lets create a local version of the dictionary\n",
    "# and remind ourselves how we access the individual values within\n",
    "\n",
    "temp_dict = {'Programming Language': 'Python', \n",
    "             'Designed by': 'Guido van Rossum', \n",
    "             'Appeared': '1991', \n",
    "             'Extension': '.py'}\n",
    "\n",
    "print(temp_dict['Programming Language'])\n",
    "print(temp_dict['Extension'])"
   ]
  },
  {
   "cell_type": "code",
   "execution_count": null,
   "metadata": {},
   "outputs": [],
   "source": [
    "# at first glance this could look more complicated\n",
    "# but it actually makes it easier to parse out what we want!\n",
    "\n",
    "with open('data.csv', 'r') as csv_file:\n",
    "    csv_dict_reader = csv.DictReader(csv_file)\n",
    "\n",
    "    for line in csv_dict_reader:\n",
    "        # here we are asking python to explicitly give us the values within the \n",
    "        # appeared column\n",
    "        print(line['Appeared'])"
   ]
  },
  {
   "cell_type": "markdown",
   "metadata": {},
   "source": [
    "<b> We can append new rows to the csv using DictWriter, or we can write to a new CSV with DictWriter! </b>"
   ]
  },
  {
   "cell_type": "code",
   "execution_count": null,
   "metadata": {},
   "outputs": [],
   "source": [
    "with open('data.csv', 'a') as csv_file:\n",
    "    # pass in the column names\n",
    "    column_names = ['Programming Language', 'Designed by', 'Appeared', 'Extension']\n",
    "    # pass in column names into the dictionary writer function\n",
    "    csv_writer = csv.DictWriter(csv_file, fieldnames=column_names)\n",
    "\n",
    "    # create the dictionary we would like to append\n",
    "    progam_dict={'Programming Language':'Javascript',\n",
    "                  'Designed by':'Brendan Eich',\n",
    "                  'Appeared':'1995', \n",
    "                  'Extension':'.js'}\n",
    "\n",
    "    # write the dictionary into the bottom most row witihn the csv\n",
    "    csv_writer.writerow(prog_dict)"
   ]
  },
  {
   "cell_type": "markdown",
   "metadata": {},
   "source": [
    "<b> Cool! </b> \n",
    "<br>\n",
    "What if we wanted to write to a new file?"
   ]
  },
  {
   "cell_type": "code",
   "execution_count": null,
   "metadata": {},
   "outputs": [],
   "source": [
    "# in order to write to a new file, we will use with open, and name a new csv\n",
    "# if it does not exist, it will be created. If it does exist, it will be overwritten\n",
    "# therefore, it's important to be careful with this option:\n",
    "\n",
    "with open('test.csv', 'w') as csv_file:\n",
    "    column_names = ['Name', 'Age', 'Birthday']\n",
    "    csv_writer = csv.DictWriter(csv_file, fieldnames=column_names)\n",
    "\n",
    "    birthday_dict = {'Name':'Eric','Age':'29','Birthday':'2/4/1993'}\n",
    "    \n",
    "    #write a new row for my birthday\n",
    "    csv_writer.writerow(birthday_dict)"
   ]
  },
  {
   "cell_type": "code",
   "execution_count": null,
   "metadata": {},
   "outputs": [],
   "source": [
    "# when we wrote to a new csv there were no column headers!\n",
    "# we can turn those on with the following:\n",
    "# add the newline='' parameter to the open method\n",
    "\n",
    "with open('test.csv', 'w', newline='') as csv_file:\n",
    "    field_names = ['Name', 'Age', 'Birthday']\n",
    "    csv_writer = csv.DictWriter(csv_file, fieldnames=field_names)\n",
    "\n",
    "    csv_writer.writeheader()\n",
    "\n",
    "    birthday_dict = {'Name':'Eric','Age':'29','Birthday':'2/4/1993'}\n",
    "\n",
    "    csv_writer.writerow(birthday_dict)"
   ]
  },
  {
   "cell_type": "markdown",
   "metadata": {},
   "source": [
    "### BONUS\n",
    "\n",
    "#### Shutil Python Module\n",
    "\n",
    "https://www.geeksforgeeks.org/shutil-module-in-python/\n",
    "\n",
    "Package is capable of removing folders and moving files/folders to different locations\n",
    "\n",
    "#### Need to be very careful when working with shutil\n",
    "You do not want to accidentally delete the wrong file!"
   ]
  },
  {
   "cell_type": "code",
   "execution_count": null,
   "metadata": {},
   "outputs": [],
   "source": [
    "import shutil"
   ]
  },
  {
   "cell_type": "code",
   "execution_count": null,
   "metadata": {},
   "outputs": [],
   "source": [
    "destination_folder = os.getcwd()\n",
    "source_file = os.path.join(current_folder, r'SampleTextFiles\\Amanda_textfile.txt')\n",
    "\n",
    "# shutil copy will copy the full path of a file to a new location\n",
    "# copy is good to use over .move because the file still exists within\n",
    "# both locations\n",
    "shutil.copy(source_file, current_folder)"
   ]
  },
  {
   "cell_type": "code",
   "execution_count": null,
   "metadata": {},
   "outputs": [],
   "source": [
    "# os remove will permanently delete the file from your computer\n",
    "# BE CAREFUL. This will not go to your recycle bin. This will be completely deleted from\n",
    "# your computer.\n",
    "\n",
    "os.remove(source_file)"
   ]
  },
  {
   "cell_type": "code",
   "execution_count": null,
   "metadata": {},
   "outputs": [],
   "source": [
    "current_folder = os.getcwd()\n",
    "source = os.path.join(current_folder, 'SampleTextFiles')\n",
    "destination = os.path.join(current_folder, 'SampleTextFiles_COPY')\n",
    "\n",
    "# shutil copy tree will copy the full folder from one location to a new location\n",
    "# copy tree is good to use over move tree because the file still exists within both\n",
    "# locations, much like using shutil.copy with files\n",
    "\n",
    "shutil.copytree(source, destination)"
   ]
  },
  {
   "cell_type": "code",
   "execution_count": null,
   "metadata": {},
   "outputs": [],
   "source": [
    "# shutil.rmtree will permanently delete the input folder from your computer\n",
    "# BE CAREFUL. This will not go to your recycle bin. This will be completely deleted from\n",
    "# your computer.\n",
    "\n",
    "shutil.rmtree(destination)"
   ]
  },
  {
   "cell_type": "code",
   "execution_count": null,
   "metadata": {},
   "outputs": [],
   "source": []
  }
 ],
 "metadata": {
  "kernelspec": {
   "display_name": "ArcGISPro",
   "language": "Python",
   "name": "python3"
  },
  "language_info": {
   "file_extension": ".py",
   "name": "python",
   "version": "3"
  }
 },
 "nbformat": 4,
 "nbformat_minor": 2
}
