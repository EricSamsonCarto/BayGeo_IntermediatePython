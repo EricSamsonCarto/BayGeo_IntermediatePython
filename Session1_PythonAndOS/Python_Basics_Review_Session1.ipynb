{
 "cells": [
  {
   "cell_type": "markdown",
   "id": "52605f64",
   "metadata": {},
   "source": [
    "# Python Basics Review\n",
    "\n",
    "**Syntax**\n",
    "\n",
    "<br>Python reads code line by line and uses key words, characters and indenting to store data and execute functions.\n",
    "<br>Import the Python libraries used in a script at the top.  Then define global variables and functions.\n",
    "<br>Use comments to document what each section of code is doing."
   ]
  },
  {
   "cell_type": "markdown",
   "id": "4a9435d6",
   "metadata": {},
   "source": [
    "# Data Types \n",
    "\n",
    "**Numbers** - Integer, floating point, complex numbers\n",
    "\n",
    "**Boolean** - True or False\n",
    "\n",
    "**Strings** - text\n",
    "\n",
    "**Lists** - container for data/objects\n",
    "\n",
    "**Tuples** - container for data/objects, immutable\n",
    "\n",
    "**Sets** - container for data/objects. Each element in a set is unique, no duplicates\n",
    "\n",
    "**Dictionaries** - container for data/objects, where a key contains a value. Values can be lists, dictionaries, tuples etc.\n",
    "\n",
    "**Arcpy Feature Layer** - A temporary version of a shapefile, feature class or table that allows for spatial and attribute selections.  Any edits to the Feature Layer will be reflected in the source shapefile, feature class or table.\n",
    "\n",
    "#### Reference Guide for Data Types:\n",
    "https://www.geeksforgeeks.org/python-data-types/"
   ]
  },
  {
   "cell_type": "markdown",
   "id": "ff70110a",
   "metadata": {},
   "source": [
    "Python is much easier than most languages, it only has 4 data structures!\n",
    "\n",
    "- Lists\n",
    "- Dictionaries\n",
    "- Tuples\n",
    "- Sets"
   ]
  },
  {
   "cell_type": "markdown",
   "id": "44cc1908",
   "metadata": {},
   "source": [
    "# Programming Concepts\n",
    "\n",
    "* Creating variables!\n",
    "* Comparison Operators!\n",
    "* Looping!\n",
    "* Conditional Statements!\n",
    "* Python built in functions!\n",
    "* Defining custom functions!\n",
    "\n",
    "Reference Guide for Built in Functions:\n",
    "https://www.geeksforgeeks.org/python-built-in-functions/\n",
    "\n",
    "Reference guide for Builtin in String Methods:\n",
    "https://www.w3schools.com/python/python_ref_string.asp"
   ]
  },
  {
   "cell_type": "code",
   "execution_count": null,
   "id": "7673cf43",
   "metadata": {},
   "outputs": [],
   "source": [
    "x = 3"
   ]
  },
  {
   "cell_type": "code",
   "execution_count": null,
   "id": "eeede120",
   "metadata": {},
   "outputs": [],
   "source": [
    "print(x)"
   ]
  },
  {
   "cell_type": "code",
   "execution_count": null,
   "id": "cbff1500",
   "metadata": {},
   "outputs": [],
   "source": [
    "y = 4"
   ]
  },
  {
   "cell_type": "code",
   "execution_count": null,
   "id": "a7a31bf8",
   "metadata": {},
   "outputs": [],
   "source": [
    "x * y"
   ]
  },
  {
   "cell_type": "code",
   "execution_count": null,
   "id": "76bbcc1c",
   "metadata": {},
   "outputs": [],
   "source": [
    "x + y"
   ]
  },
  {
   "cell_type": "code",
   "execution_count": null,
   "id": "a2cb361f",
   "metadata": {},
   "outputs": [],
   "source": [
    "x > y"
   ]
  },
  {
   "cell_type": "code",
   "execution_count": null,
   "id": "e7783ff5",
   "metadata": {},
   "outputs": [],
   "source": [
    "x < y"
   ]
  },
  {
   "cell_type": "code",
   "execution_count": null,
   "id": "6608e999",
   "metadata": {},
   "outputs": [],
   "source": [
    "x >= y"
   ]
  },
  {
   "cell_type": "code",
   "execution_count": null,
   "id": "7294c0b6",
   "metadata": {},
   "outputs": [],
   "source": [
    "x <= y"
   ]
  },
  {
   "cell_type": "code",
   "execution_count": null,
   "id": "5e2f891a",
   "metadata": {},
   "outputs": [],
   "source": [
    "x = y"
   ]
  },
  {
   "cell_type": "code",
   "execution_count": null,
   "id": "93dd5216",
   "metadata": {
    "scrolled": true
   },
   "outputs": [],
   "source": [
    "print(x)"
   ]
  },
  {
   "cell_type": "code",
   "execution_count": null,
   "id": "52c90ba5",
   "metadata": {},
   "outputs": [],
   "source": [
    "x = 5\n",
    "x = 6\n",
    "x = 4"
   ]
  },
  {
   "cell_type": "code",
   "execution_count": null,
   "id": "315b97de",
   "metadata": {},
   "outputs": [],
   "source": [
    "print(x)"
   ]
  },
  {
   "cell_type": "code",
   "execution_count": null,
   "id": "0af4c62c",
   "metadata": {},
   "outputs": [],
   "source": [
    "x == y"
   ]
  },
  {
   "cell_type": "code",
   "execution_count": null,
   "id": "2039ad0d",
   "metadata": {},
   "outputs": [],
   "source": [
    "list_values = ['Meredith', 'Eric', 'Matt', 'Molly', 'Joe']"
   ]
  },
  {
   "cell_type": "markdown",
   "id": "f465c64a",
   "metadata": {},
   "source": [
    "Accessing values within a list using the index"
   ]
  },
  {
   "cell_type": "code",
   "execution_count": null,
   "id": "9ec20b57",
   "metadata": {},
   "outputs": [],
   "source": [
    "len(list_values)"
   ]
  },
  {
   "cell_type": "code",
   "execution_count": null,
   "id": "576109cc",
   "metadata": {},
   "outputs": [],
   "source": [
    "list_values[0]"
   ]
  },
  {
   "cell_type": "code",
   "execution_count": null,
   "id": "70c48ee0",
   "metadata": {},
   "outputs": [],
   "source": [
    "list_values[4]"
   ]
  },
  {
   "cell_type": "code",
   "execution_count": null,
   "id": "413a06cc",
   "metadata": {},
   "outputs": [],
   "source": [
    "list_values[5]"
   ]
  },
  {
   "cell_type": "code",
   "execution_count": null,
   "id": "ccf942b9",
   "metadata": {},
   "outputs": [],
   "source": [
    "list_values[1:3]"
   ]
  },
  {
   "cell_type": "code",
   "execution_count": null,
   "id": "1f012297",
   "metadata": {},
   "outputs": [],
   "source": [
    "list_values[:4]"
   ]
  },
  {
   "cell_type": "code",
   "execution_count": null,
   "id": "935b273e",
   "metadata": {},
   "outputs": [],
   "source": [
    "list_values[1:]"
   ]
  },
  {
   "cell_type": "code",
   "execution_count": null,
   "id": "54bae59b",
   "metadata": {},
   "outputs": [],
   "source": [
    "list_values[-1]"
   ]
  },
  {
   "cell_type": "code",
   "execution_count": null,
   "id": "18c1d31d",
   "metadata": {},
   "outputs": [],
   "source": [
    "list_values"
   ]
  },
  {
   "cell_type": "markdown",
   "id": "1d5e6ce2",
   "metadata": {},
   "source": [
    "Commenting code"
   ]
  },
  {
   "cell_type": "code",
   "execution_count": null,
   "id": "df032eec",
   "metadata": {},
   "outputs": [],
   "source": [
    "# loop through name list and print each name\n",
    "for name in list_values:\n",
    "    print(name)"
   ]
  },
  {
   "cell_type": "code",
   "execution_count": null,
   "id": "1b1ae912",
   "metadata": {
    "scrolled": true
   },
   "outputs": [],
   "source": [
    "for blah in list_values:\n",
    "    print(blah)"
   ]
  },
  {
   "cell_type": "markdown",
   "id": "df1e37a7",
   "metadata": {},
   "source": [
    "Conditional if statements"
   ]
  },
  {
   "cell_type": "code",
   "execution_count": null,
   "id": "745496c9",
   "metadata": {},
   "outputs": [],
   "source": [
    "for name in list_values:\n",
    "    if name == \"Molly\":\n",
    "        print(name)\n",
    "    elif name == \"Eric\":\n",
    "        print(name)\n",
    "    else:\n",
    "        print(\"The name's not molly or eric!!\")"
   ]
  },
  {
   "cell_type": "markdown",
   "id": "42421fc8",
   "metadata": {},
   "source": [
    "We can do this better!"
   ]
  },
  {
   "cell_type": "code",
   "execution_count": null,
   "id": "a5e1047c",
   "metadata": {},
   "outputs": [],
   "source": [
    "for name in list_values:\n",
    "    #if the name text is molly or eric\n",
    "    if name == \"Molly\" or name == \"Eric\":\n",
    "        print(name)\n",
    "    else:\n",
    "        print(\"The name's not molly or eric!!\")"
   ]
  },
  {
   "cell_type": "markdown",
   "id": "6efabbea",
   "metadata": {},
   "source": [
    "Reference guide for Builtin in String Methods:<br>\n",
    "https://www.w3schools.com/python/python_ref_string.asp"
   ]
  },
  {
   "cell_type": "code",
   "execution_count": null,
   "id": "925853c1",
   "metadata": {},
   "outputs": [],
   "source": [
    "for name in list_values:\n",
    "    if name.startswith('M'):\n",
    "        print(name)"
   ]
  },
  {
   "cell_type": "markdown",
   "id": "7419e156",
   "metadata": {},
   "source": [
    "So far we have been just printing the information to the cell <br>\n",
    "What if we wanted to keep the information within Python to use later? <br>\n",
    "We can save the data into a new list"
   ]
  },
  {
   "cell_type": "code",
   "execution_count": null,
   "id": "b816c2f1",
   "metadata": {},
   "outputs": [],
   "source": [
    "M_name_list = []\n",
    "\n",
    "for name in list_values:\n",
    "    if name.startswith('M'):\n",
    "        M_name_list.append(name)\n",
    "\n",
    "print(M_name_list)"
   ]
  },
  {
   "cell_type": "markdown",
   "id": "b9c593e5",
   "metadata": {},
   "source": [
    "Reference guide for Builtin in List Methods:<br>\n",
    "https://www.w3schools.com/python/python_ref_list.asp"
   ]
  },
  {
   "cell_type": "markdown",
   "id": "77700097",
   "metadata": {},
   "source": [
    "What if we want to check a lot of lists for m names and save each of them as a new list? <br>\n",
    "What if we want to use this logic again in the future?"
   ]
  },
  {
   "cell_type": "code",
   "execution_count": null,
   "id": "3c16ca34",
   "metadata": {},
   "outputs": [],
   "source": [
    "#get_mnames_from_list"
   ]
  },
  {
   "cell_type": "code",
   "execution_count": null,
   "id": "5813027b",
   "metadata": {},
   "outputs": [],
   "source": [
    "name_list_2 = ['Mia', 'Mason', 'Liam', 'Noah']\n",
    "name_list_3 = ['Mark', 'Bill', 'George']\n",
    "name_list_4 = ['Marcos', 'Frank', 'Dennis']"
   ]
  },
  {
   "cell_type": "code",
   "execution_count": null,
   "id": "2dae6791",
   "metadata": {},
   "outputs": [],
   "source": [
    "get_mnames_from_list(name_list_4)"
   ]
  },
  {
   "cell_type": "code",
   "execution_count": null,
   "id": "e0160231",
   "metadata": {},
   "outputs": [],
   "source": [
    "new_mname_list = get_mnames_from_list(name_list_4)"
   ]
  },
  {
   "cell_type": "markdown",
   "id": "2d3e9aa5",
   "metadata": {},
   "source": [
    "<b>Dictionaries</b>"
   ]
  },
  {
   "cell_type": "code",
   "execution_count": null,
   "id": "85b01ff6",
   "metadata": {},
   "outputs": [],
   "source": [
    "example_dict = {\"key\":\"value\", \"Class\":\"History\", \"Grade\":\"92\"}"
   ]
  },
  {
   "cell_type": "code",
   "execution_count": null,
   "id": "4e51f19e",
   "metadata": {},
   "outputs": [],
   "source": [
    "example_dict[\"Grade\"]"
   ]
  },
  {
   "cell_type": "markdown",
   "id": "05b9cac7",
   "metadata": {},
   "source": [
    "<b> f-strings </b>"
   ]
  },
  {
   "cell_type": "code",
   "execution_count": null,
   "id": "aa7ed4b7",
   "metadata": {},
   "outputs": [],
   "source": [
    "name = 'Eric'\n",
    "age = 30"
   ]
  },
  {
   "cell_type": "code",
   "execution_count": null,
   "id": "d0e8119a",
   "metadata": {},
   "outputs": [],
   "source": [
    "f'My name is {name}, and I am {age} years old'"
   ]
  },
  {
   "cell_type": "code",
   "execution_count": null,
   "id": "fc01c0f3",
   "metadata": {},
   "outputs": [],
   "source": []
  }
 ],
 "metadata": {
  "kernelspec": {
   "display_name": "ArcGISPro",
   "language": "Python",
   "name": "python3"
  },
  "language_info": {
   "file_extension": ".py",
   "name": "python",
   "version": "3"
  }
 },
 "nbformat": 4,
 "nbformat_minor": 5
}
