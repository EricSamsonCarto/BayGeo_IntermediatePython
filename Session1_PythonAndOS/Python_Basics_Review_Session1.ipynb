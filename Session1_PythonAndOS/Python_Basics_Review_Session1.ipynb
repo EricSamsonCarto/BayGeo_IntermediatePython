{
 "cells": [
  {
   "cell_type": "markdown",
   "id": "4fc91398",
   "metadata": {},
   "source": [
    "# Python Basics Review\n",
    "\n",
    "**Syntax**\n",
    "\n",
    "<br>Python reads code line by line and uses key words, characters and indenting to store data and execute functions.\n",
    "<br>Import the Python libraries used in a script at the top.  Then define global variables and functions.\n",
    "<br>Use comments to document what each section of code is doing."
   ]
  },
  {
   "cell_type": "markdown",
   "id": "b137f30c",
   "metadata": {},
   "source": [
    "# Data Types \n",
    "\n",
    "**Numbers** - Integer, floating point, complex numbers\n",
    "\n",
    "**Boolean** - True or False\n",
    "\n",
    "**Strings** - text\n",
    "\n",
    "**Lists** - container for data/objects\n",
    "\n",
    "**Tuples** - container for data/objects, immutable\n",
    "\n",
    "**Sets** - container for data/objects. Each element in a set is unique, no duplicates\n",
    "\n",
    "**Dictionaries** - container for data/objects, where a key contains a value. Values can be lists, dictionaries, tuples etc.\n",
    "\n",
    "**Arcpy Feature Layer** - A temporary version of a shapefile, feature class or table that allows for spatial and attribute selections.  Any edits to the Feature Layer will be reflected in the source shapefile, feature class or table.\n",
    "\n",
    "#### Reference Guide for Data Types:\n",
    "https://www.geeksforgeeks.org/python-data-types/"
   ]
  },
  {
   "cell_type": "markdown",
   "id": "0b5ad083",
   "metadata": {},
   "source": [
    "Python is much easier than most languages, it only has 4 data structures!\n",
    "\n",
    "- Lists\n",
    "- Dictionaries\n",
    "- Tuples\n",
    "- Sets"
   ]
  },
  {
   "cell_type": "markdown",
   "id": "a0b0336f",
   "metadata": {},
   "source": [
    "# Programming Concepts\n",
    "\n",
    "* Creating variables!\n",
    "* Comparison Operators!\n",
    "* Looping!\n",
    "* Conditional Statements!\n",
    "* Python built in functions!\n",
    "* Defining custom functions!\n",
    "\n",
    "Reference Guide for Built in Functions:\n",
    "https://www.geeksforgeeks.org/python-built-in-functions/\n",
    "\n",
    "Reference guide for Builtin in String Methods:\n",
    "https://www.w3schools.com/python/python_ref_string.asp"
   ]
  },
  {
   "cell_type": "code",
   "execution_count": null,
   "id": "fbe71413",
   "metadata": {},
   "outputs": [],
   "source": [
    "x = 3"
   ]
  },
  {
   "cell_type": "code",
   "execution_count": null,
   "id": "9d55e1b3",
   "metadata": {},
   "outputs": [],
   "source": [
    "print(x)"
   ]
  },
  {
   "cell_type": "code",
   "execution_count": null,
   "id": "f3f5ad07",
   "metadata": {},
   "outputs": [],
   "source": [
    "y = 4"
   ]
  },
  {
   "cell_type": "code",
   "execution_count": null,
   "id": "f0217d45",
   "metadata": {},
   "outputs": [],
   "source": [
    "x * y"
   ]
  },
  {
   "cell_type": "code",
   "execution_count": null,
   "id": "6b0de8a2",
   "metadata": {},
   "outputs": [],
   "source": [
    "x + y"
   ]
  },
  {
   "cell_type": "code",
   "execution_count": null,
   "id": "7cbeaed8",
   "metadata": {},
   "outputs": [],
   "source": [
    "x > y"
   ]
  },
  {
   "cell_type": "code",
   "execution_count": null,
   "id": "91734b55",
   "metadata": {},
   "outputs": [],
   "source": [
    "x < y"
   ]
  },
  {
   "cell_type": "code",
   "execution_count": null,
   "id": "71ba47f4",
   "metadata": {},
   "outputs": [],
   "source": [
    "x >= y"
   ]
  },
  {
   "cell_type": "code",
   "execution_count": null,
   "id": "d2c4439d",
   "metadata": {},
   "outputs": [],
   "source": [
    "x <= y"
   ]
  },
  {
   "cell_type": "code",
   "execution_count": null,
   "id": "87f465a4",
   "metadata": {},
   "outputs": [],
   "source": [
    "x = y"
   ]
  },
  {
   "cell_type": "code",
   "execution_count": null,
   "id": "f5862960",
   "metadata": {
    "scrolled": true
   },
   "outputs": [],
   "source": [
    "print(x)"
   ]
  },
  {
   "cell_type": "code",
   "execution_count": null,
   "id": "f46306ab",
   "metadata": {},
   "outputs": [],
   "source": [
    "x = 5\n",
    "x = 6\n",
    "x = 4"
   ]
  },
  {
   "cell_type": "code",
   "execution_count": null,
   "id": "87d0e950",
   "metadata": {},
   "outputs": [],
   "source": [
    "print(x)"
   ]
  },
  {
   "cell_type": "code",
   "execution_count": null,
   "id": "e1c7bf9b",
   "metadata": {},
   "outputs": [],
   "source": [
    "x == y"
   ]
  },
  {
   "cell_type": "code",
   "execution_count": null,
   "id": "d6cfc546",
   "metadata": {},
   "outputs": [],
   "source": [
    "list_values = ['Meredith', 'Eric', 'Matt', 'Molly', 'Joe']"
   ]
  },
  {
   "cell_type": "markdown",
   "id": "5a909a5e",
   "metadata": {},
   "source": [
    "Accessing values within a list using the index"
   ]
  },
  {
   "cell_type": "code",
   "execution_count": null,
   "id": "f9e9393d",
   "metadata": {},
   "outputs": [],
   "source": [
    "len(list_values)"
   ]
  },
  {
   "cell_type": "code",
   "execution_count": null,
   "id": "7e7302bf",
   "metadata": {},
   "outputs": [],
   "source": [
    "list_values[0]"
   ]
  },
  {
   "cell_type": "code",
   "execution_count": null,
   "id": "22e88068",
   "metadata": {},
   "outputs": [],
   "source": [
    "list_values[4]"
   ]
  },
  {
   "cell_type": "code",
   "execution_count": null,
   "id": "03ce2623",
   "metadata": {},
   "outputs": [],
   "source": [
    "list_values[5]"
   ]
  },
  {
   "cell_type": "code",
   "execution_count": null,
   "id": "5903cde1",
   "metadata": {},
   "outputs": [],
   "source": [
    "list_values[1:3]"
   ]
  },
  {
   "cell_type": "code",
   "execution_count": null,
   "id": "055f6a71",
   "metadata": {},
   "outputs": [],
   "source": [
    "list_values[:4]"
   ]
  },
  {
   "cell_type": "code",
   "execution_count": null,
   "id": "72f5f7ca",
   "metadata": {},
   "outputs": [],
   "source": [
    "list_values[1:]"
   ]
  },
  {
   "cell_type": "code",
   "execution_count": null,
   "id": "d70f1038",
   "metadata": {},
   "outputs": [],
   "source": [
    "list_values[-1]"
   ]
  },
  {
   "cell_type": "code",
   "execution_count": null,
   "id": "f93dd0a9",
   "metadata": {},
   "outputs": [],
   "source": [
    "list_values"
   ]
  },
  {
   "cell_type": "markdown",
   "id": "b5b9baad",
   "metadata": {},
   "source": [
    "Commenting code"
   ]
  },
  {
   "cell_type": "code",
   "execution_count": null,
   "id": "f855e7d4",
   "metadata": {},
   "outputs": [],
   "source": [
    "# loop through name list and print each name\n",
    "for name in list_values:\n",
    "    print(name)"
   ]
  },
  {
   "cell_type": "code",
   "execution_count": null,
   "id": "e5dbd101",
   "metadata": {
    "scrolled": true
   },
   "outputs": [],
   "source": [
    "for blah in list_values:\n",
    "    print(blah)"
   ]
  },
  {
   "cell_type": "markdown",
   "id": "42f181de",
   "metadata": {},
   "source": [
    "Conditional if statements"
   ]
  },
  {
   "cell_type": "code",
   "execution_count": null,
   "id": "43085f47",
   "metadata": {},
   "outputs": [],
   "source": [
    "for name in list_values:\n",
    "    if name == \"Molly\":\n",
    "        print(name)\n",
    "    elif name == \"Eric\":\n",
    "        print(name)\n",
    "    else:\n",
    "        print(\"The name's not molly or eric!!\")"
   ]
  },
  {
   "cell_type": "markdown",
   "id": "28063263",
   "metadata": {},
   "source": [
    "We can do this better!"
   ]
  },
  {
   "cell_type": "code",
   "execution_count": null,
   "id": "5ae2a6af",
   "metadata": {},
   "outputs": [],
   "source": [
    "for name in list_values:\n",
    "    #if the name text is molly or eric\n",
    "    if name == \"Molly\" or name == \"Eric\":\n",
    "        print(name)\n",
    "    else:\n",
    "        print(\"The name's not molly or eric!!\")"
   ]
  },
  {
   "cell_type": "markdown",
   "id": "e2682e71",
   "metadata": {},
   "source": [
    "Reference guide for Builtin in String Methods:<br>\n",
    "https://www.w3schools.com/python/python_ref_string.asp"
   ]
  },
  {
   "cell_type": "code",
   "execution_count": null,
   "id": "5f699b3b",
   "metadata": {},
   "outputs": [],
   "source": [
    "for name in list_values:\n",
    "    if name.startswith('M'):\n",
    "        print(name)"
   ]
  },
  {
   "cell_type": "markdown",
   "id": "769689d4",
   "metadata": {},
   "source": [
    "So far we have been just printing the information to the cell <br>\n",
    "What if we wanted to keep the information within Python to use later? <br>\n",
    "We can save the data into a new list"
   ]
  },
  {
   "cell_type": "code",
   "execution_count": null,
   "id": "a22be63f",
   "metadata": {},
   "outputs": [],
   "source": [
    "M_name_list = []\n",
    "\n",
    "for name in list_values:\n",
    "    if name.startswith('M'):\n",
    "        M_name_list.append(name)\n",
    "\n",
    "print(M_name_list)"
   ]
  },
  {
   "cell_type": "markdown",
   "id": "cccf606a",
   "metadata": {},
   "source": [
    "Reference guide for Builtin in List Methods:<br>\n",
    "https://www.w3schools.com/python/python_ref_list.asp"
   ]
  },
  {
   "cell_type": "markdown",
   "id": "80873e4d",
   "metadata": {},
   "source": [
    "What if we want to check a lot of lists for m names and save each of them as a new list? <br>\n",
    "What if we want to use this logic again in the future?"
   ]
  },
  {
   "cell_type": "code",
   "execution_count": null,
   "id": "2030b038",
   "metadata": {},
   "outputs": [],
   "source": [
    "#get_mnames_from_list"
   ]
  },
  {
   "cell_type": "code",
   "execution_count": null,
   "id": "eb802245",
   "metadata": {},
   "outputs": [],
   "source": [
    "name_list_2 = ['Mia', 'Mason', 'Liam', 'Noah']\n",
    "name_list_3 = ['Mark', 'Bill', 'George']\n",
    "name_list_4 = ['Marcos', 'Frank', 'Dennis']"
   ]
  },
  {
   "cell_type": "code",
   "execution_count": null,
   "id": "8f9167bd",
   "metadata": {},
   "outputs": [],
   "source": [
    "get_mnames_from_list(name_list_4)"
   ]
  },
  {
   "cell_type": "code",
   "execution_count": null,
   "id": "bd96cb16",
   "metadata": {},
   "outputs": [],
   "source": [
    "new_mname_list = get_mnames_from_list(name_list_4)"
   ]
  },
  {
   "cell_type": "markdown",
   "id": "56460c3d",
   "metadata": {},
   "source": [
    "<b>Dictionaries</b>"
   ]
  },
  {
   "cell_type": "code",
   "execution_count": null,
   "id": "7b1ad80c",
   "metadata": {},
   "outputs": [],
   "source": [
    "example_dict = {\"key\":\"value\", \"Class\":\"History\", \"Grade\":\"92\"}"
   ]
  },
  {
   "cell_type": "code",
   "execution_count": null,
   "id": "200131e0",
   "metadata": {},
   "outputs": [],
   "source": [
    "example_dict[\"Grade\"]"
   ]
  },
  {
   "cell_type": "markdown",
   "id": "c3fb35aa",
   "metadata": {},
   "source": [
    "<b> f-strings </b>"
   ]
  },
  {
   "cell_type": "code",
   "execution_count": null,
   "id": "1925c5cd",
   "metadata": {},
   "outputs": [],
   "source": [
    "name = 'Eric'\n",
    "age = 30"
   ]
  },
  {
   "cell_type": "code",
   "execution_count": null,
   "id": "2f1bc6e2",
   "metadata": {},
   "outputs": [],
   "source": [
    "f'My name is {name}, and I am {age} years old'"
   ]
  },
  {
   "cell_type": "code",
   "execution_count": null,
   "id": "5246fa80",
   "metadata": {},
   "outputs": [],
   "source": []
  }
 ],
 "metadata": {
  "kernelspec": {
   "display_name": "ArcGISPro",
   "language": "Python",
   "name": "python3"
  },
  "language_info": {
   "file_extension": ".py",
   "name": "python",
   "version": "3"
  }
 },
 "nbformat": 4,
 "nbformat_minor": 5
}
