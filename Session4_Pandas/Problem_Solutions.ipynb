{
 "cells": [
  {
   "cell_type": "markdown",
   "metadata": {},
   "source": [
    "### Problem 1"
   ]
  },
  {
   "cell_type": "code",
   "execution_count": null,
   "metadata": {},
   "outputs": [],
   "source": [
    "import os\n",
    "import arcgis\n",
    "import pandas as pd"
   ]
  },
  {
   "cell_type": "code",
   "execution_count": null,
   "metadata": {},
   "outputs": [],
   "source": [
    "# load in the feature class as a spatial dataframe\n",
    "ca_city_boundary = 'ca_cities_boundaries'\n",
    "sdf = pd.DataFrame.spatial.from_featureclass(ca_city_boundary)\n",
    "\n",
    "# sort the dataframe by population size\n",
    "top_10_cities = sdf.sort_values(\"Pop2010\", ascending=False)\n",
    "\n",
    "# create a dataframe that only includes the first 10 rows\n",
    "df_output = top_10_cities.head(10)\n",
    "\n",
    "# create a list of the columns we want to keep\n",
    "columns_we_want = ['NAME', 'Pop2010','Land_sqmi',\n",
    "                   'DateIncorp','County']\n",
    "# create new dataframe with only the fields from the above list\n",
    "df_output = df_output[columns_we_want]\n",
    "\n",
    "# export that dataframe to a csv, (don't forget to not include the index!)\n",
    "df_output.to_csv(\"top_ca_cities.csv\", index=False)"
   ]
  },
  {
   "cell_type": "markdown",
   "metadata": {},
   "source": [
    "### Problem 2"
   ]
  },
  {
   "cell_type": "code",
   "execution_count": null,
   "metadata": {},
   "outputs": [],
   "source": [
    "# get path to the movies dataset\n",
    "proj_folder = os.getcwd()\n",
    "data_folder = os.path.join(proj_folder, 'data')\n",
    "movies_csv = os.path.join(data_folder, 'top_250_movies.csv')\n",
    "\n",
    "# load in the movies dataset as a pandas dataframe\n",
    "df = pd.read_csv(movies_csv)\n",
    "\n",
    "# use value counts function to find the top directors\n",
    "director_count = df['directors'].value_counts()\n",
    "\n",
    "# use .head to display the top 10 records\n",
    "director_count.head(10)"
   ]
  },
  {
   "cell_type": "code",
   "execution_count": null,
   "metadata": {},
   "outputs": [],
   "source": [
    "# create query for the director with 6 top movies\n",
    "query = (df['directors'] == 'Alfred Hitchcock')\n",
    "\n",
    "# use the .loc using the above query. Save it as a new dataframe (don't forget to use the .copy())\n",
    "top_director_df = df.loc[query].copy()\n",
    "\n",
    "# create list of columns that we want\n",
    "cols_we_want = ['directors', 'name', 'rating']\n",
    "\n",
    "# create a new dataframe using the above columns\n",
    "new_df = top_director_df[cols_we_want]\n",
    "\n",
    "# print out new table\n",
    "new_df"
   ]
  },
  {
   "cell_type": "markdown",
   "metadata": {},
   "source": [
    "### Problem 3"
   ]
  },
  {
   "cell_type": "code",
   "execution_count": null,
   "metadata": {},
   "outputs": [],
   "source": [
    "# load in the feature class as a spatial dataframe\n",
    "ca_city_boundary = 'ca_cities_boundaries'\n",
    "sdf = pd.DataFrame.spatial.from_featureclass(ca_city_boundary)\n",
    "\n",
    "# use the group by function to group by the county name, then the sum function on the land_sqmi column, creating a new dataframe in the process\n",
    "new_df_land = sdf.groupby(['County'], as_index=False)['Land_sqmi'].sum()\n",
    "\n",
    "# sort the dataframe by land size, saving as a new dataframe\n",
    "top_counties_size = new_df_land.sort_values(\"Land_sqmi\", ascending=False)\n",
    "\n",
    "# create new dataframe that only contains the top ten\n",
    "top_10_counties_size = top_counties_size.head(10)\n",
    "\n",
    "# output dataframe to excel file, with sheet name\n",
    "top_10_counties_size.to_excel('largest_city_area.xlsx', index=False, sheet_name='city_size_analysis')"
   ]
  }
 ],
 "metadata": {
  "kernelspec": {
   "display_name": "ArcGISPro",
   "language": "Python",
   "name": "python3"
  },
  "language_info": {
   "file_extension": ".py",
   "name": "python",
   "version": "3"
  }
 },
 "nbformat": 4,
 "nbformat_minor": 2
}
