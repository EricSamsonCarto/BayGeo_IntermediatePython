{
 "cells": [
  {
   "cell_type": "markdown",
   "metadata": {},
   "source": [
    "### Problem 1"
   ]
  },
  {
   "cell_type": "markdown",
   "metadata": {},
   "source": [
    "Lets create a dataframe from the ca_cities_boundaries feature layer, then lets create a dataframe that holds only the top ten cities with the highest population.\n",
    "\n",
    "Export it to a csv to our current project folder. Name the csv: \"top_ca_cities.csv\"\n",
    "\n",
    "Only keep the following fields in the output csv, in the following order: <br>\n",
    "- NAME\n",
    "- Pop2010\n",
    "- Land_sqmi\n",
    "- DateIncorp\n",
    "- County"
   ]
  },
  {
   "cell_type": "code",
   "execution_count": null,
   "metadata": {},
   "outputs": [],
   "source": [
    "import os\n",
    "import arcgis\n",
    "import pandas as pd"
   ]
  },
  {
   "cell_type": "code",
   "execution_count": null,
   "metadata": {},
   "outputs": [],
   "source": [
    "# load in the feature class as a spatial dataframe\n",
    "\n",
    "# sort the dataframe by population size, saving as a new dataframe\n",
    "\n",
    "# create a dataframe that only includes the first 10 rows\n",
    "\n",
    "# create a list of the columns we want to keep\n",
    "\n",
    "# create new dataframe with only the fields from the above list\n",
    "\n",
    "# export that dataframe to a csv, (don't forget to not include the index!)"
   ]
  },
  {
   "cell_type": "markdown",
   "metadata": {},
   "source": [
    "### Problem 2\n",
    "\n",
    "For problem 2, lets load in the top 250 IMDB dataset into pandas again.\n",
    "\n",
    "Let's use the value counts function to find out which directors have the most movies in the dataset.\n",
    "\n",
    "Create a query to filter the dataset to only include the movies that were created by the director that had <b>6</b> top movies.\n",
    "\n",
    "Once you have the table created, remove extra columns. For this output, we only want the directors, name, and rating columns, in that order"
   ]
  },
  {
   "cell_type": "code",
   "execution_count": null,
   "metadata": {},
   "outputs": [],
   "source": [
    "# get path to the movies dataset\n",
    "\n",
    "# load in the movies dataset as a pandas dataframe\n",
    "\n",
    "# use value counts function to find the top directors\n",
    "\n",
    "# use .head to display the top 10 records"
   ]
  },
  {
   "cell_type": "code",
   "execution_count": null,
   "metadata": {},
   "outputs": [],
   "source": [
    "# create query for the director with 6 top movies\n",
    "\n",
    "# use the .loc using the above query. Save it as a new dataframe (don't forget to use the .copy())\n",
    "\n",
    "# create list of columns that we want\n",
    "\n",
    "# create a new dataframe using the above columns\n",
    "\n",
    "# print out new table"
   ]
  },
  {
   "cell_type": "markdown",
   "metadata": {},
   "source": [
    "### CHALLENGE: Problem 3\n",
    "\n",
    "For this problem, you will need to review the <a html='https://pandas.pydata.org/docs/reference/api/pandas.DataFrame.groupby.html'>group by function</a>\n",
    "\n",
    "This tutorial explains its usage very well: <a html='https://realpython.com/pandas-groupby/'>Real Python: Group By Function</a>\n"
   ]
  },
  {
   "cell_type": "markdown",
   "metadata": {},
   "source": [
    "Read in the ca_cities_boundaries feature layer again as a dataframe. Lets create a new dataframe where the data is grouped by the county column by the sum of the land_sqmi column. This will give us the total land in square miles of each cities in each county.\n",
    "\n",
    "Lets limit it to the top ten largest counties by the land_sqmi column. <br>\n",
    "This time, lets export to an excel file, called: \"largest_city_area.xlsx\" and call the sheet name \"city_size_analysis\""
   ]
  },
  {
   "cell_type": "code",
   "execution_count": 16,
   "metadata": {},
   "outputs": [],
   "source": [
    "# load in the feature class as a spatial dataframe\n",
    "\n",
    "# use the group by function to group by the county name, then the sum function on the land_sqmi column, creating a new dataframe in the process\n",
    "\n",
    "# sort the dataframe by land size, saving as a new dataframe\n",
    "\n",
    "# create new dataframe that only contains the top ten\n",
    "\n",
    "# output dataframe to excel file, with sheet name"
   ]
  },
  {
   "cell_type": "code",
   "execution_count": null,
   "metadata": {},
   "outputs": [],
   "source": []
  }
 ],
 "metadata": {
  "kernelspec": {
   "display_name": "ArcGISPro",
   "language": "Python",
   "name": "python3"
  },
  "language_info": {
   "file_extension": ".py",
   "name": "python",
   "version": "3"
  }
 },
 "nbformat": 4,
 "nbformat_minor": 2
}
