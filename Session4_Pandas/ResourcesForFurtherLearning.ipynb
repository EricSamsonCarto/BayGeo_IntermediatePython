{
 "cells": [
  {
   "cell_type": "markdown",
   "metadata": {},
   "source": [
    "### Pandas Resouces"
   ]
  },
  {
   "cell_type": "markdown",
   "metadata": {},
   "source": [
    "[10 Minute Pandas](https://pandas.pydata.org/docs/user_guide/10min.html)\n",
    "<br>\n",
    "[Pandas Youtube Course](https://www.youtube.com/playlist?list=PL-osiE80TeTsWmV9i9c58mdDCSskIFdDS)"
   ]
  },
  {
   "cell_type": "markdown",
   "metadata": {},
   "source": [
    "### Books I love and recommend"
   ]
  },
  {
   "cell_type": "markdown",
   "metadata": {},
   "source": [
    "[Data Analysis with Python](https://wesmckinney.com/book/preliminaries.html)\n",
    "<br>\n",
    "Free! From the inventor of Pandas\n",
    "<br>\n",
    "[Python For ArcGIS Pro](https://www.packtpub.com/product/python-for-arcgis-pro/9781803241661)\n",
    "<br>\n",
    "Great organized book covering the majority of what we have covered in both of BayGeo's python classes, but still a very helpful resource for taking a deeper dive.\n",
    "<br>\n",
    "[Effective Pandas](https://store.metasnake.com/effective-pandas-book)\n",
    "<br>\n",
    "Top recommendation on this list. Very helpful. More advance concepts, better for individuals more familair with pandas who want to become more advanced."
   ]
  },
  {
   "cell_type": "markdown",
   "metadata": {},
   "source": [
    "### Other Important Packages to learn\n",
    "\n",
    "[GeoPandas](https://geopandas.org/en/stable/)\n",
    "<br>\n",
    "Open source GIS spatial functions, built on top of pandas\n",
    "<br>\n",
    "[Rastero](https://rasterio.readthedocs.io/en/latest/)\n",
    "<br>\n",
    "Open source raster analysis python package\n",
    "<br>\n",
    "[NumPy](https://numpy.org/)\n",
    "<br>\n",
    "Python package for mathematical computations"
   ]
  }
 ],
 "metadata": {
  "kernelspec": {
   "display_name": "ArcGISPro",
   "language": "Python",
   "name": "python3"
  },
  "language_info": {
   "file_extension": ".py",
   "name": "python",
   "version": "3"
  }
 },
 "nbformat": 4,
 "nbformat_minor": 2
}
